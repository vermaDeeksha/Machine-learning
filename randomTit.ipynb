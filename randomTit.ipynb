{
 "cells": [
  {
   "cell_type": "code",
   "execution_count": 1,
   "id": "6146a889",
   "metadata": {},
   "outputs": [],
   "source": [
    "# importing library\n",
    "import pandas as pd\n",
    "import numpy as np\n",
    "import matplotlib.pyplot as plt\n",
    "import seaborn as sns\n",
    "import warnings\n",
    "\n",
    "%matplotlib inline\n",
    "warnings.filterwarnings(\"ignore\")"
   ]
  },
  {
   "cell_type": "code",
   "execution_count": 2,
   "id": "63870119",
   "metadata": {},
   "outputs": [],
   "source": [
    "data=pd.read_csv(r\"E:\\python_\\machine\\Titanic_Survival_train.csv\")"
   ]
  },
  {
   "cell_type": "code",
   "execution_count": 3,
   "id": "66034aac",
   "metadata": {},
   "outputs": [
    {
     "data": {
      "text/html": [
       "<div>\n",
       "<style scoped>\n",
       "    .dataframe tbody tr th:only-of-type {\n",
       "        vertical-align: middle;\n",
       "    }\n",
       "\n",
       "    .dataframe tbody tr th {\n",
       "        vertical-align: top;\n",
       "    }\n",
       "\n",
       "    .dataframe thead th {\n",
       "        text-align: right;\n",
       "    }\n",
       "</style>\n",
       "<table border=\"1\" class=\"dataframe\">\n",
       "  <thead>\n",
       "    <tr style=\"text-align: right;\">\n",
       "      <th></th>\n",
       "      <th>PassengerId</th>\n",
       "      <th>Survived</th>\n",
       "      <th>Pclass</th>\n",
       "      <th>Name</th>\n",
       "      <th>Sex</th>\n",
       "      <th>Age</th>\n",
       "      <th>SibSp</th>\n",
       "      <th>Parch</th>\n",
       "      <th>Ticket</th>\n",
       "      <th>Fare</th>\n",
       "      <th>Cabin</th>\n",
       "      <th>Embarked</th>\n",
       "    </tr>\n",
       "  </thead>\n",
       "  <tbody>\n",
       "    <tr>\n",
       "      <th>0</th>\n",
       "      <td>1</td>\n",
       "      <td>0</td>\n",
       "      <td>3</td>\n",
       "      <td>Braund, Mr. Owen Harris</td>\n",
       "      <td>male</td>\n",
       "      <td>22.0</td>\n",
       "      <td>1</td>\n",
       "      <td>0</td>\n",
       "      <td>A/5 21171</td>\n",
       "      <td>7.2500</td>\n",
       "      <td>NaN</td>\n",
       "      <td>S</td>\n",
       "    </tr>\n",
       "    <tr>\n",
       "      <th>1</th>\n",
       "      <td>2</td>\n",
       "      <td>1</td>\n",
       "      <td>1</td>\n",
       "      <td>Cumings, Mrs. John Bradley (Florence Briggs Th...</td>\n",
       "      <td>female</td>\n",
       "      <td>38.0</td>\n",
       "      <td>1</td>\n",
       "      <td>0</td>\n",
       "      <td>PC 17599</td>\n",
       "      <td>71.2833</td>\n",
       "      <td>C85</td>\n",
       "      <td>C</td>\n",
       "    </tr>\n",
       "    <tr>\n",
       "      <th>2</th>\n",
       "      <td>3</td>\n",
       "      <td>1</td>\n",
       "      <td>3</td>\n",
       "      <td>Heikkinen, Miss. Laina</td>\n",
       "      <td>female</td>\n",
       "      <td>26.0</td>\n",
       "      <td>0</td>\n",
       "      <td>0</td>\n",
       "      <td>STON/O2. 3101282</td>\n",
       "      <td>7.9250</td>\n",
       "      <td>NaN</td>\n",
       "      <td>S</td>\n",
       "    </tr>\n",
       "    <tr>\n",
       "      <th>3</th>\n",
       "      <td>4</td>\n",
       "      <td>1</td>\n",
       "      <td>1</td>\n",
       "      <td>Futrelle, Mrs. Jacques Heath (Lily May Peel)</td>\n",
       "      <td>female</td>\n",
       "      <td>35.0</td>\n",
       "      <td>1</td>\n",
       "      <td>0</td>\n",
       "      <td>113803</td>\n",
       "      <td>53.1000</td>\n",
       "      <td>C123</td>\n",
       "      <td>S</td>\n",
       "    </tr>\n",
       "    <tr>\n",
       "      <th>4</th>\n",
       "      <td>5</td>\n",
       "      <td>0</td>\n",
       "      <td>3</td>\n",
       "      <td>Allen, Mr. William Henry</td>\n",
       "      <td>male</td>\n",
       "      <td>35.0</td>\n",
       "      <td>0</td>\n",
       "      <td>0</td>\n",
       "      <td>373450</td>\n",
       "      <td>8.0500</td>\n",
       "      <td>NaN</td>\n",
       "      <td>S</td>\n",
       "    </tr>\n",
       "  </tbody>\n",
       "</table>\n",
       "</div>"
      ],
      "text/plain": [
       "   PassengerId  Survived  Pclass  \\\n",
       "0            1         0       3   \n",
       "1            2         1       1   \n",
       "2            3         1       3   \n",
       "3            4         1       1   \n",
       "4            5         0       3   \n",
       "\n",
       "                                                Name     Sex   Age  SibSp  \\\n",
       "0                            Braund, Mr. Owen Harris    male  22.0      1   \n",
       "1  Cumings, Mrs. John Bradley (Florence Briggs Th...  female  38.0      1   \n",
       "2                             Heikkinen, Miss. Laina  female  26.0      0   \n",
       "3       Futrelle, Mrs. Jacques Heath (Lily May Peel)  female  35.0      1   \n",
       "4                           Allen, Mr. William Henry    male  35.0      0   \n",
       "\n",
       "   Parch            Ticket     Fare Cabin Embarked  \n",
       "0      0         A/5 21171   7.2500   NaN        S  \n",
       "1      0          PC 17599  71.2833   C85        C  \n",
       "2      0  STON/O2. 3101282   7.9250   NaN        S  \n",
       "3      0            113803  53.1000  C123        S  \n",
       "4      0            373450   8.0500   NaN        S  "
      ]
     },
     "execution_count": 3,
     "metadata": {},
     "output_type": "execute_result"
    }
   ],
   "source": [
    "data.head()"
   ]
  },
  {
   "cell_type": "markdown",
   "id": "a67296d8",
   "metadata": {},
   "source": [
    "# performing EDA"
   ]
  },
  {
   "cell_type": "code",
   "execution_count": 4,
   "id": "d832368b",
   "metadata": {},
   "outputs": [
    {
     "data": {
      "text/plain": [
       "PassengerId      int64\n",
       "Survived         int64\n",
       "Pclass           int64\n",
       "Name            object\n",
       "Sex             object\n",
       "Age            float64\n",
       "SibSp            int64\n",
       "Parch            int64\n",
       "Ticket          object\n",
       "Fare           float64\n",
       "Cabin           object\n",
       "Embarked        object\n",
       "dtype: object"
      ]
     },
     "execution_count": 4,
     "metadata": {},
     "output_type": "execute_result"
    }
   ],
   "source": [
    "# find out catagorial variables and continous variables.\n",
    "data.dtypes"
   ]
  },
  {
   "cell_type": "code",
   "execution_count": 5,
   "id": "ff746038",
   "metadata": {},
   "outputs": [],
   "source": [
    "# droping consist features\n",
    "data.drop([\"PassengerId\",\"Name\",\"Ticket\"],axis=1,inplace=True)"
   ]
  },
  {
   "cell_type": "code",
   "execution_count": 6,
   "id": "7910c61e",
   "metadata": {},
   "outputs": [
    {
     "data": {
      "text/html": [
       "<div>\n",
       "<style scoped>\n",
       "    .dataframe tbody tr th:only-of-type {\n",
       "        vertical-align: middle;\n",
       "    }\n",
       "\n",
       "    .dataframe tbody tr th {\n",
       "        vertical-align: top;\n",
       "    }\n",
       "\n",
       "    .dataframe thead th {\n",
       "        text-align: right;\n",
       "    }\n",
       "</style>\n",
       "<table border=\"1\" class=\"dataframe\">\n",
       "  <thead>\n",
       "    <tr style=\"text-align: right;\">\n",
       "      <th></th>\n",
       "      <th>Survived</th>\n",
       "      <th>Pclass</th>\n",
       "      <th>Sex</th>\n",
       "      <th>Age</th>\n",
       "      <th>SibSp</th>\n",
       "      <th>Parch</th>\n",
       "      <th>Fare</th>\n",
       "      <th>Cabin</th>\n",
       "      <th>Embarked</th>\n",
       "    </tr>\n",
       "  </thead>\n",
       "  <tbody>\n",
       "    <tr>\n",
       "      <th>0</th>\n",
       "      <td>0</td>\n",
       "      <td>3</td>\n",
       "      <td>male</td>\n",
       "      <td>22.0</td>\n",
       "      <td>1</td>\n",
       "      <td>0</td>\n",
       "      <td>7.2500</td>\n",
       "      <td>NaN</td>\n",
       "      <td>S</td>\n",
       "    </tr>\n",
       "    <tr>\n",
       "      <th>1</th>\n",
       "      <td>1</td>\n",
       "      <td>1</td>\n",
       "      <td>female</td>\n",
       "      <td>38.0</td>\n",
       "      <td>1</td>\n",
       "      <td>0</td>\n",
       "      <td>71.2833</td>\n",
       "      <td>C85</td>\n",
       "      <td>C</td>\n",
       "    </tr>\n",
       "    <tr>\n",
       "      <th>2</th>\n",
       "      <td>1</td>\n",
       "      <td>3</td>\n",
       "      <td>female</td>\n",
       "      <td>26.0</td>\n",
       "      <td>0</td>\n",
       "      <td>0</td>\n",
       "      <td>7.9250</td>\n",
       "      <td>NaN</td>\n",
       "      <td>S</td>\n",
       "    </tr>\n",
       "    <tr>\n",
       "      <th>3</th>\n",
       "      <td>1</td>\n",
       "      <td>1</td>\n",
       "      <td>female</td>\n",
       "      <td>35.0</td>\n",
       "      <td>1</td>\n",
       "      <td>0</td>\n",
       "      <td>53.1000</td>\n",
       "      <td>C123</td>\n",
       "      <td>S</td>\n",
       "    </tr>\n",
       "    <tr>\n",
       "      <th>4</th>\n",
       "      <td>0</td>\n",
       "      <td>3</td>\n",
       "      <td>male</td>\n",
       "      <td>35.0</td>\n",
       "      <td>0</td>\n",
       "      <td>0</td>\n",
       "      <td>8.0500</td>\n",
       "      <td>NaN</td>\n",
       "      <td>S</td>\n",
       "    </tr>\n",
       "  </tbody>\n",
       "</table>\n",
       "</div>"
      ],
      "text/plain": [
       "   Survived  Pclass     Sex   Age  SibSp  Parch     Fare Cabin Embarked\n",
       "0         0       3    male  22.0      1      0   7.2500   NaN        S\n",
       "1         1       1  female  38.0      1      0  71.2833   C85        C\n",
       "2         1       3  female  26.0      0      0   7.9250   NaN        S\n",
       "3         1       1  female  35.0      1      0  53.1000  C123        S\n",
       "4         0       3    male  35.0      0      0   8.0500   NaN        S"
      ]
     },
     "execution_count": 6,
     "metadata": {},
     "output_type": "execute_result"
    }
   ],
   "source": [
    "data.head()"
   ]
  },
  {
   "cell_type": "code",
   "execution_count": 7,
   "id": "ac8e3f30",
   "metadata": {},
   "outputs": [
    {
     "data": {
      "text/plain": [
       "Survived      0\n",
       "Pclass        0\n",
       "Sex           0\n",
       "Age         177\n",
       "SibSp         0\n",
       "Parch         0\n",
       "Fare          0\n",
       "Cabin       687\n",
       "Embarked      2\n",
       "dtype: int64"
      ]
     },
     "execution_count": 7,
     "metadata": {},
     "output_type": "execute_result"
    }
   ],
   "source": [
    "# checking missing values.\n",
    "data.isnull().sum()"
   ]
  },
  {
   "cell_type": "code",
   "execution_count": 8,
   "id": "ad01725f",
   "metadata": {},
   "outputs": [
    {
     "data": {
      "text/plain": [
       "(891, 9)"
      ]
     },
     "execution_count": 8,
     "metadata": {},
     "output_type": "execute_result"
    }
   ],
   "source": [
    "data.shape"
   ]
  },
  {
   "cell_type": "code",
   "execution_count": 9,
   "id": "e4bceb44",
   "metadata": {},
   "outputs": [],
   "source": [
    "# if my missing values is 20% then we droping all those columns\n",
    "data=data.drop([\"Cabin\"],axis=1)"
   ]
  },
  {
   "cell_type": "code",
   "execution_count": 10,
   "id": "f6aac907",
   "metadata": {},
   "outputs": [
    {
     "data": {
      "text/html": [
       "<div>\n",
       "<style scoped>\n",
       "    .dataframe tbody tr th:only-of-type {\n",
       "        vertical-align: middle;\n",
       "    }\n",
       "\n",
       "    .dataframe tbody tr th {\n",
       "        vertical-align: top;\n",
       "    }\n",
       "\n",
       "    .dataframe thead th {\n",
       "        text-align: right;\n",
       "    }\n",
       "</style>\n",
       "<table border=\"1\" class=\"dataframe\">\n",
       "  <thead>\n",
       "    <tr style=\"text-align: right;\">\n",
       "      <th></th>\n",
       "      <th>Survived</th>\n",
       "      <th>Pclass</th>\n",
       "      <th>Sex</th>\n",
       "      <th>Age</th>\n",
       "      <th>SibSp</th>\n",
       "      <th>Parch</th>\n",
       "      <th>Fare</th>\n",
       "      <th>Embarked</th>\n",
       "    </tr>\n",
       "  </thead>\n",
       "  <tbody>\n",
       "    <tr>\n",
       "      <th>0</th>\n",
       "      <td>0</td>\n",
       "      <td>3</td>\n",
       "      <td>male</td>\n",
       "      <td>22.0</td>\n",
       "      <td>1</td>\n",
       "      <td>0</td>\n",
       "      <td>7.2500</td>\n",
       "      <td>S</td>\n",
       "    </tr>\n",
       "    <tr>\n",
       "      <th>1</th>\n",
       "      <td>1</td>\n",
       "      <td>1</td>\n",
       "      <td>female</td>\n",
       "      <td>38.0</td>\n",
       "      <td>1</td>\n",
       "      <td>0</td>\n",
       "      <td>71.2833</td>\n",
       "      <td>C</td>\n",
       "    </tr>\n",
       "    <tr>\n",
       "      <th>2</th>\n",
       "      <td>1</td>\n",
       "      <td>3</td>\n",
       "      <td>female</td>\n",
       "      <td>26.0</td>\n",
       "      <td>0</td>\n",
       "      <td>0</td>\n",
       "      <td>7.9250</td>\n",
       "      <td>S</td>\n",
       "    </tr>\n",
       "    <tr>\n",
       "      <th>3</th>\n",
       "      <td>1</td>\n",
       "      <td>1</td>\n",
       "      <td>female</td>\n",
       "      <td>35.0</td>\n",
       "      <td>1</td>\n",
       "      <td>0</td>\n",
       "      <td>53.1000</td>\n",
       "      <td>S</td>\n",
       "    </tr>\n",
       "    <tr>\n",
       "      <th>4</th>\n",
       "      <td>0</td>\n",
       "      <td>3</td>\n",
       "      <td>male</td>\n",
       "      <td>35.0</td>\n",
       "      <td>0</td>\n",
       "      <td>0</td>\n",
       "      <td>8.0500</td>\n",
       "      <td>S</td>\n",
       "    </tr>\n",
       "  </tbody>\n",
       "</table>\n",
       "</div>"
      ],
      "text/plain": [
       "   Survived  Pclass     Sex   Age  SibSp  Parch     Fare Embarked\n",
       "0         0       3    male  22.0      1      0   7.2500        S\n",
       "1         1       1  female  38.0      1      0  71.2833        C\n",
       "2         1       3  female  26.0      0      0   7.9250        S\n",
       "3         1       1  female  35.0      1      0  53.1000        S\n",
       "4         0       3    male  35.0      0      0   8.0500        S"
      ]
     },
     "execution_count": 10,
     "metadata": {},
     "output_type": "execute_result"
    }
   ],
   "source": [
    "data.head()"
   ]
  },
  {
   "cell_type": "code",
   "execution_count": 11,
   "id": "7cdf1b4b",
   "metadata": {},
   "outputs": [],
   "source": [
    "# filling age with mean\n",
    "data['Age'] = data['Age'].fillna(data['Age'].mean())"
   ]
  },
  {
   "cell_type": "code",
   "execution_count": 12,
   "id": "6ef99079",
   "metadata": {},
   "outputs": [
    {
     "data": {
      "text/html": [
       "<div>\n",
       "<style scoped>\n",
       "    .dataframe tbody tr th:only-of-type {\n",
       "        vertical-align: middle;\n",
       "    }\n",
       "\n",
       "    .dataframe tbody tr th {\n",
       "        vertical-align: top;\n",
       "    }\n",
       "\n",
       "    .dataframe thead th {\n",
       "        text-align: right;\n",
       "    }\n",
       "</style>\n",
       "<table border=\"1\" class=\"dataframe\">\n",
       "  <thead>\n",
       "    <tr style=\"text-align: right;\">\n",
       "      <th></th>\n",
       "      <th>Survived</th>\n",
       "      <th>Pclass</th>\n",
       "      <th>Sex</th>\n",
       "      <th>Age</th>\n",
       "      <th>SibSp</th>\n",
       "      <th>Parch</th>\n",
       "      <th>Fare</th>\n",
       "      <th>Embarked</th>\n",
       "    </tr>\n",
       "  </thead>\n",
       "  <tbody>\n",
       "    <tr>\n",
       "      <th>0</th>\n",
       "      <td>0</td>\n",
       "      <td>3</td>\n",
       "      <td>male</td>\n",
       "      <td>22.0</td>\n",
       "      <td>1</td>\n",
       "      <td>0</td>\n",
       "      <td>7.2500</td>\n",
       "      <td>S</td>\n",
       "    </tr>\n",
       "    <tr>\n",
       "      <th>1</th>\n",
       "      <td>1</td>\n",
       "      <td>1</td>\n",
       "      <td>female</td>\n",
       "      <td>38.0</td>\n",
       "      <td>1</td>\n",
       "      <td>0</td>\n",
       "      <td>71.2833</td>\n",
       "      <td>C</td>\n",
       "    </tr>\n",
       "    <tr>\n",
       "      <th>2</th>\n",
       "      <td>1</td>\n",
       "      <td>3</td>\n",
       "      <td>female</td>\n",
       "      <td>26.0</td>\n",
       "      <td>0</td>\n",
       "      <td>0</td>\n",
       "      <td>7.9250</td>\n",
       "      <td>S</td>\n",
       "    </tr>\n",
       "    <tr>\n",
       "      <th>3</th>\n",
       "      <td>1</td>\n",
       "      <td>1</td>\n",
       "      <td>female</td>\n",
       "      <td>35.0</td>\n",
       "      <td>1</td>\n",
       "      <td>0</td>\n",
       "      <td>53.1000</td>\n",
       "      <td>S</td>\n",
       "    </tr>\n",
       "    <tr>\n",
       "      <th>4</th>\n",
       "      <td>0</td>\n",
       "      <td>3</td>\n",
       "      <td>male</td>\n",
       "      <td>35.0</td>\n",
       "      <td>0</td>\n",
       "      <td>0</td>\n",
       "      <td>8.0500</td>\n",
       "      <td>S</td>\n",
       "    </tr>\n",
       "  </tbody>\n",
       "</table>\n",
       "</div>"
      ],
      "text/plain": [
       "   Survived  Pclass     Sex   Age  SibSp  Parch     Fare Embarked\n",
       "0         0       3    male  22.0      1      0   7.2500        S\n",
       "1         1       1  female  38.0      1      0  71.2833        C\n",
       "2         1       3  female  26.0      0      0   7.9250        S\n",
       "3         1       1  female  35.0      1      0  53.1000        S\n",
       "4         0       3    male  35.0      0      0   8.0500        S"
      ]
     },
     "execution_count": 12,
     "metadata": {},
     "output_type": "execute_result"
    }
   ],
   "source": [
    "data.head()"
   ]
  },
  {
   "cell_type": "code",
   "execution_count": 13,
   "id": "943b7697",
   "metadata": {},
   "outputs": [
    {
     "data": {
      "text/plain": [
       "Survived    0\n",
       "Pclass      0\n",
       "Sex         0\n",
       "Age         0\n",
       "SibSp       0\n",
       "Parch       0\n",
       "Fare        0\n",
       "Embarked    2\n",
       "dtype: int64"
      ]
     },
     "execution_count": 13,
     "metadata": {},
     "output_type": "execute_result"
    }
   ],
   "source": [
    "data.isnull().sum()"
   ]
  },
  {
   "cell_type": "code",
   "execution_count": 14,
   "id": "ff2c3fce",
   "metadata": {},
   "outputs": [],
   "source": [
    "# replace with mode\n",
    "data[\"Embarked\"]=data[\"Embarked\"].fillna(data[\"Embarked\"].mode())"
   ]
  },
  {
   "cell_type": "code",
   "execution_count": 15,
   "id": "04ada453",
   "metadata": {},
   "outputs": [
    {
     "data": {
      "text/plain": [
       "Embarked\n",
       "S           644\n",
       "C           168\n",
       "Q            77\n",
       "dtype: int64"
      ]
     },
     "execution_count": 15,
     "metadata": {},
     "output_type": "execute_result"
    }
   ],
   "source": [
    "data[[\"Embarked\"]].value_counts()"
   ]
  },
  {
   "cell_type": "code",
   "execution_count": 16,
   "id": "c3bc5940",
   "metadata": {},
   "outputs": [
    {
     "data": {
      "text/html": [
       "<div>\n",
       "<style scoped>\n",
       "    .dataframe tbody tr th:only-of-type {\n",
       "        vertical-align: middle;\n",
       "    }\n",
       "\n",
       "    .dataframe tbody tr th {\n",
       "        vertical-align: top;\n",
       "    }\n",
       "\n",
       "    .dataframe thead th {\n",
       "        text-align: right;\n",
       "    }\n",
       "</style>\n",
       "<table border=\"1\" class=\"dataframe\">\n",
       "  <thead>\n",
       "    <tr style=\"text-align: right;\">\n",
       "      <th></th>\n",
       "      <th>Survived</th>\n",
       "      <th>Pclass</th>\n",
       "      <th>Sex</th>\n",
       "      <th>Age</th>\n",
       "      <th>SibSp</th>\n",
       "      <th>Parch</th>\n",
       "      <th>Fare</th>\n",
       "      <th>Embarked</th>\n",
       "    </tr>\n",
       "  </thead>\n",
       "  <tbody>\n",
       "    <tr>\n",
       "      <th>0</th>\n",
       "      <td>0</td>\n",
       "      <td>3</td>\n",
       "      <td>male</td>\n",
       "      <td>22.0</td>\n",
       "      <td>1</td>\n",
       "      <td>0</td>\n",
       "      <td>7.2500</td>\n",
       "      <td>S</td>\n",
       "    </tr>\n",
       "    <tr>\n",
       "      <th>1</th>\n",
       "      <td>1</td>\n",
       "      <td>1</td>\n",
       "      <td>female</td>\n",
       "      <td>38.0</td>\n",
       "      <td>1</td>\n",
       "      <td>0</td>\n",
       "      <td>71.2833</td>\n",
       "      <td>C</td>\n",
       "    </tr>\n",
       "    <tr>\n",
       "      <th>2</th>\n",
       "      <td>1</td>\n",
       "      <td>3</td>\n",
       "      <td>female</td>\n",
       "      <td>26.0</td>\n",
       "      <td>0</td>\n",
       "      <td>0</td>\n",
       "      <td>7.9250</td>\n",
       "      <td>S</td>\n",
       "    </tr>\n",
       "    <tr>\n",
       "      <th>3</th>\n",
       "      <td>1</td>\n",
       "      <td>1</td>\n",
       "      <td>female</td>\n",
       "      <td>35.0</td>\n",
       "      <td>1</td>\n",
       "      <td>0</td>\n",
       "      <td>53.1000</td>\n",
       "      <td>S</td>\n",
       "    </tr>\n",
       "    <tr>\n",
       "      <th>4</th>\n",
       "      <td>0</td>\n",
       "      <td>3</td>\n",
       "      <td>male</td>\n",
       "      <td>35.0</td>\n",
       "      <td>0</td>\n",
       "      <td>0</td>\n",
       "      <td>8.0500</td>\n",
       "      <td>S</td>\n",
       "    </tr>\n",
       "  </tbody>\n",
       "</table>\n",
       "</div>"
      ],
      "text/plain": [
       "   Survived  Pclass     Sex   Age  SibSp  Parch     Fare Embarked\n",
       "0         0       3    male  22.0      1      0   7.2500        S\n",
       "1         1       1  female  38.0      1      0  71.2833        C\n",
       "2         1       3  female  26.0      0      0   7.9250        S\n",
       "3         1       1  female  35.0      1      0  53.1000        S\n",
       "4         0       3    male  35.0      0      0   8.0500        S"
      ]
     },
     "execution_count": 16,
     "metadata": {},
     "output_type": "execute_result"
    }
   ],
   "source": [
    "data.head()"
   ]
  },
  {
   "cell_type": "code",
   "execution_count": 17,
   "id": "f25547d1",
   "metadata": {},
   "outputs": [
    {
     "data": {
      "text/plain": [
       "Survived    0\n",
       "Pclass      0\n",
       "Sex         0\n",
       "Age         0\n",
       "SibSp       0\n",
       "Parch       0\n",
       "Fare        0\n",
       "Embarked    2\n",
       "dtype: int64"
      ]
     },
     "execution_count": 17,
     "metadata": {},
     "output_type": "execute_result"
    }
   ],
   "source": [
    "data.isnull().sum()"
   ]
  },
  {
   "cell_type": "code",
   "execution_count": 18,
   "id": "dc3be69a",
   "metadata": {},
   "outputs": [],
   "source": [
    "# repl\n",
    "data[\"Embarked\"]=data[\"Embarked\"].fillna(\"S\")"
   ]
  },
  {
   "cell_type": "code",
   "execution_count": 19,
   "id": "4786f712",
   "metadata": {},
   "outputs": [
    {
     "data": {
      "text/plain": [
       "Survived    0\n",
       "Pclass      0\n",
       "Sex         0\n",
       "Age         0\n",
       "SibSp       0\n",
       "Parch       0\n",
       "Fare        0\n",
       "Embarked    0\n",
       "dtype: int64"
      ]
     },
     "execution_count": 19,
     "metadata": {},
     "output_type": "execute_result"
    }
   ],
   "source": [
    "data.isnull().sum()"
   ]
  },
  {
   "cell_type": "code",
   "execution_count": 20,
   "id": "404b9c78",
   "metadata": {},
   "outputs": [
    {
     "data": {
      "text/plain": [
       "Text(0.5, 1.0, ' number of passenger survived aut not')"
      ]
     },
     "execution_count": 20,
     "metadata": {},
     "output_type": "execute_result"
    },
    {
     "data": {
      "image/png": "[encoded data removed]",
      "text/plain": [
       "<Figure size 640x480 with 1 Axes>"
      ]
     },
     "metadata": {},
     "output_type": "display_data"
    }
   ],
   "source": [
    "# check for balance and imbalaced dataset.\n",
    "\n",
    "sns.countplot(data['Survived'])\n",
    "plt.title(\" number of passenger survived aut not\")"
   ]
  },
  {
   "cell_type": "code",
   "execution_count": 21,
   "id": "f8d1a3e2",
   "metadata": {},
   "outputs": [],
   "source": [
    "value_counts=data[[\"Survived\"]].value_counts()"
   ]
  },
  {
   "cell_type": "code",
   "execution_count": 22,
   "id": "e17c53d7",
   "metadata": {},
   "outputs": [
    {
     "data": {
      "text/plain": [
       "Survived\n",
       "0           549\n",
       "1           342\n",
       "dtype: int64"
      ]
     },
     "execution_count": 22,
     "metadata": {},
     "output_type": "execute_result"
    }
   ],
   "source": [
    "value_counts"
   ]
  },
  {
   "cell_type": "code",
   "execution_count": 23,
   "id": "bf6c4d9c",
   "metadata": {},
   "outputs": [],
   "source": [
    "# check the percentage\n",
    "ratio=(value_counts/value_counts.sum())*100"
   ]
  },
  {
   "cell_type": "code",
   "execution_count": 24,
   "id": "1a0fd083",
   "metadata": {},
   "outputs": [
    {
     "data": {
      "image/png": "[encoded data removed]",
      "text/plain": [
       "<Figure size 640x480 with 1 Axes>"
      ]
     },
     "metadata": {},
     "output_type": "display_data"
    },
    {
     "name": "stdout",
     "output_type": "stream",
     "text": [
      "0    549\n",
      "1    342\n",
      "Name: Survived, dtype: int64\n"
     ]
    }
   ],
   "source": [
    "# looking for imbalance data.\n",
    "im=data[\"Survived\"].value_counts()\n",
    "plt.pie(im,autopct=\"%.2f%%\")\n",
    "plt.show()\n",
    "print(im)"
   ]
  },
  {
   "cell_type": "markdown",
   "id": "b8ff6ac6",
   "metadata": {},
   "source": [
    "# performing Encoding"
   ]
  },
  {
   "cell_type": "code",
   "execution_count": 25,
   "id": "b1c9ab7e",
   "metadata": {},
   "outputs": [],
   "source": [
    "from sklearn.preprocessing import OneHotEncoder"
   ]
  },
  {
   "cell_type": "code",
   "execution_count": 26,
   "id": "a95c79bb",
   "metadata": {},
   "outputs": [],
   "source": [
    "onehot=OneHotEncoder()"
   ]
  },
  {
   "cell_type": "code",
   "execution_count": 27,
   "id": "ffe96960",
   "metadata": {},
   "outputs": [],
   "source": [
    "cat_columns=[\"Sex\",\"Embarked\"]"
   ]
  },
  {
   "cell_type": "code",
   "execution_count": 28,
   "id": "0ba8e5b9",
   "metadata": {},
   "outputs": [
    {
     "data": {
      "text/plain": [
       "Survived      int64\n",
       "Pclass        int64\n",
       "Sex          object\n",
       "Age         float64\n",
       "SibSp         int64\n",
       "Parch         int64\n",
       "Fare        float64\n",
       "Embarked     object\n",
       "dtype: object"
      ]
     },
     "execution_count": 28,
     "metadata": {},
     "output_type": "execute_result"
    }
   ],
   "source": [
    "data.dtypes"
   ]
  },
  {
   "cell_type": "code",
   "execution_count": 29,
   "id": "856ed259",
   "metadata": {},
   "outputs": [],
   "source": [
    "encoded_data=onehot.fit_transform(data[cat_columns])"
   ]
  },
  {
   "cell_type": "code",
   "execution_count": 30,
   "id": "067ad733",
   "metadata": {},
   "outputs": [
    {
     "data": {
      "text/plain": [
       "<891x5 sparse matrix of type '<class 'numpy.float64'>'\n",
       "\twith 1782 stored elements in Compressed Sparse Row format>"
      ]
     },
     "execution_count": 30,
     "metadata": {},
     "output_type": "execute_result"
    }
   ],
   "source": [
    "encoded_data"
   ]
  },
  {
   "cell_type": "code",
   "execution_count": 31,
   "id": "f532187d",
   "metadata": {},
   "outputs": [],
   "source": [
    "#  convert into dataFrame\n",
    "\n",
    "encoded_df=pd.DataFrame(encoded_data.toarray(),columns=onehot.get_feature_names(cat_columns))"
   ]
  },
  {
   "cell_type": "code",
   "execution_count": 32,
   "id": "6e7931bc",
   "metadata": {},
   "outputs": [
    {
     "data": {
      "text/html": [
       "<div>\n",
       "<style scoped>\n",
       "    .dataframe tbody tr th:only-of-type {\n",
       "        vertical-align: middle;\n",
       "    }\n",
       "\n",
       "    .dataframe tbody tr th {\n",
       "        vertical-align: top;\n",
       "    }\n",
       "\n",
       "    .dataframe thead th {\n",
       "        text-align: right;\n",
       "    }\n",
       "</style>\n",
       "<table border=\"1\" class=\"dataframe\">\n",
       "  <thead>\n",
       "    <tr style=\"text-align: right;\">\n",
       "      <th></th>\n",
       "      <th>Sex_female</th>\n",
       "      <th>Sex_male</th>\n",
       "      <th>Embarked_C</th>\n",
       "      <th>Embarked_Q</th>\n",
       "      <th>Embarked_S</th>\n",
       "    </tr>\n",
       "  </thead>\n",
       "  <tbody>\n",
       "    <tr>\n",
       "      <th>0</th>\n",
       "      <td>0.0</td>\n",
       "      <td>1.0</td>\n",
       "      <td>0.0</td>\n",
       "      <td>0.0</td>\n",
       "      <td>1.0</td>\n",
       "    </tr>\n",
       "    <tr>\n",
       "      <th>1</th>\n",
       "      <td>1.0</td>\n",
       "      <td>0.0</td>\n",
       "      <td>1.0</td>\n",
       "      <td>0.0</td>\n",
       "      <td>0.0</td>\n",
       "    </tr>\n",
       "    <tr>\n",
       "      <th>2</th>\n",
       "      <td>1.0</td>\n",
       "      <td>0.0</td>\n",
       "      <td>0.0</td>\n",
       "      <td>0.0</td>\n",
       "      <td>1.0</td>\n",
       "    </tr>\n",
       "    <tr>\n",
       "      <th>3</th>\n",
       "      <td>1.0</td>\n",
       "      <td>0.0</td>\n",
       "      <td>0.0</td>\n",
       "      <td>0.0</td>\n",
       "      <td>1.0</td>\n",
       "    </tr>\n",
       "    <tr>\n",
       "      <th>4</th>\n",
       "      <td>0.0</td>\n",
       "      <td>1.0</td>\n",
       "      <td>0.0</td>\n",
       "      <td>0.0</td>\n",
       "      <td>1.0</td>\n",
       "    </tr>\n",
       "  </tbody>\n",
       "</table>\n",
       "</div>"
      ],
      "text/plain": [
       "   Sex_female  Sex_male  Embarked_C  Embarked_Q  Embarked_S\n",
       "0         0.0       1.0         0.0         0.0         1.0\n",
       "1         1.0       0.0         1.0         0.0         0.0\n",
       "2         1.0       0.0         0.0         0.0         1.0\n",
       "3         1.0       0.0         0.0         0.0         1.0\n",
       "4         0.0       1.0         0.0         0.0         1.0"
      ]
     },
     "execution_count": 32,
     "metadata": {},
     "output_type": "execute_result"
    }
   ],
   "source": [
    "encoded_df.head()"
   ]
  },
  {
   "cell_type": "code",
   "execution_count": 33,
   "id": "1fda4fbd",
   "metadata": {},
   "outputs": [],
   "source": [
    "titanic_encoded_df=pd.concat([data,encoded_df],axis=1)"
   ]
  },
  {
   "cell_type": "code",
   "execution_count": 34,
   "id": "82d6b063",
   "metadata": {},
   "outputs": [
    {
     "data": {
      "text/html": [
       "<div>\n",
       "<style scoped>\n",
       "    .dataframe tbody tr th:only-of-type {\n",
       "        vertical-align: middle;\n",
       "    }\n",
       "\n",
       "    .dataframe tbody tr th {\n",
       "        vertical-align: top;\n",
       "    }\n",
       "\n",
       "    .dataframe thead th {\n",
       "        text-align: right;\n",
       "    }\n",
       "</style>\n",
       "<table border=\"1\" class=\"dataframe\">\n",
       "  <thead>\n",
       "    <tr style=\"text-align: right;\">\n",
       "      <th></th>\n",
       "      <th>Survived</th>\n",
       "      <th>Pclass</th>\n",
       "      <th>Sex</th>\n",
       "      <th>Age</th>\n",
       "      <th>SibSp</th>\n",
       "      <th>Parch</th>\n",
       "      <th>Fare</th>\n",
       "      <th>Embarked</th>\n",
       "      <th>Sex_female</th>\n",
       "      <th>Sex_male</th>\n",
       "      <th>Embarked_C</th>\n",
       "      <th>Embarked_Q</th>\n",
       "      <th>Embarked_S</th>\n",
       "    </tr>\n",
       "  </thead>\n",
       "  <tbody>\n",
       "    <tr>\n",
       "      <th>0</th>\n",
       "      <td>0</td>\n",
       "      <td>3</td>\n",
       "      <td>male</td>\n",
       "      <td>22.0</td>\n",
       "      <td>1</td>\n",
       "      <td>0</td>\n",
       "      <td>7.2500</td>\n",
       "      <td>S</td>\n",
       "      <td>0.0</td>\n",
       "      <td>1.0</td>\n",
       "      <td>0.0</td>\n",
       "      <td>0.0</td>\n",
       "      <td>1.0</td>\n",
       "    </tr>\n",
       "    <tr>\n",
       "      <th>1</th>\n",
       "      <td>1</td>\n",
       "      <td>1</td>\n",
       "      <td>female</td>\n",
       "      <td>38.0</td>\n",
       "      <td>1</td>\n",
       "      <td>0</td>\n",
       "      <td>71.2833</td>\n",
       "      <td>C</td>\n",
       "      <td>1.0</td>\n",
       "      <td>0.0</td>\n",
       "      <td>1.0</td>\n",
       "      <td>0.0</td>\n",
       "      <td>0.0</td>\n",
       "    </tr>\n",
       "    <tr>\n",
       "      <th>2</th>\n",
       "      <td>1</td>\n",
       "      <td>3</td>\n",
       "      <td>female</td>\n",
       "      <td>26.0</td>\n",
       "      <td>0</td>\n",
       "      <td>0</td>\n",
       "      <td>7.9250</td>\n",
       "      <td>S</td>\n",
       "      <td>1.0</td>\n",
       "      <td>0.0</td>\n",
       "      <td>0.0</td>\n",
       "      <td>0.0</td>\n",
       "      <td>1.0</td>\n",
       "    </tr>\n",
       "    <tr>\n",
       "      <th>3</th>\n",
       "      <td>1</td>\n",
       "      <td>1</td>\n",
       "      <td>female</td>\n",
       "      <td>35.0</td>\n",
       "      <td>1</td>\n",
       "      <td>0</td>\n",
       "      <td>53.1000</td>\n",
       "      <td>S</td>\n",
       "      <td>1.0</td>\n",
       "      <td>0.0</td>\n",
       "      <td>0.0</td>\n",
       "      <td>0.0</td>\n",
       "      <td>1.0</td>\n",
       "    </tr>\n",
       "    <tr>\n",
       "      <th>4</th>\n",
       "      <td>0</td>\n",
       "      <td>3</td>\n",
       "      <td>male</td>\n",
       "      <td>35.0</td>\n",
       "      <td>0</td>\n",
       "      <td>0</td>\n",
       "      <td>8.0500</td>\n",
       "      <td>S</td>\n",
       "      <td>0.0</td>\n",
       "      <td>1.0</td>\n",
       "      <td>0.0</td>\n",
       "      <td>0.0</td>\n",
       "      <td>1.0</td>\n",
       "    </tr>\n",
       "  </tbody>\n",
       "</table>\n",
       "</div>"
      ],
      "text/plain": [
       "   Survived  Pclass     Sex   Age  SibSp  Parch     Fare Embarked  Sex_female  \\\n",
       "0         0       3    male  22.0      1      0   7.2500        S         0.0   \n",
       "1         1       1  female  38.0      1      0  71.2833        C         1.0   \n",
       "2         1       3  female  26.0      0      0   7.9250        S         1.0   \n",
       "3         1       1  female  35.0      1      0  53.1000        S         1.0   \n",
       "4         0       3    male  35.0      0      0   8.0500        S         0.0   \n",
       "\n",
       "   Sex_male  Embarked_C  Embarked_Q  Embarked_S  \n",
       "0       1.0         0.0         0.0         1.0  \n",
       "1       0.0         1.0         0.0         0.0  \n",
       "2       0.0         0.0         0.0         1.0  \n",
       "3       0.0         0.0         0.0         1.0  \n",
       "4       1.0         0.0         0.0         1.0  "
      ]
     },
     "execution_count": 34,
     "metadata": {},
     "output_type": "execute_result"
    }
   ],
   "source": [
    "titanic_encoded_df.head()"
   ]
  },
  {
   "cell_type": "code",
   "execution_count": 35,
   "id": "dc888972",
   "metadata": {},
   "outputs": [
    {
     "data": {
      "text/plain": [
       "Survived      0\n",
       "Pclass        0\n",
       "Sex           0\n",
       "Age           0\n",
       "SibSp         0\n",
       "Parch         0\n",
       "Fare          0\n",
       "Embarked      0\n",
       "Sex_female    0\n",
       "Sex_male      0\n",
       "Embarked_C    0\n",
       "Embarked_Q    0\n",
       "Embarked_S    0\n",
       "dtype: int64"
      ]
     },
     "execution_count": 35,
     "metadata": {},
     "output_type": "execute_result"
    }
   ],
   "source": [
    "titanic_encoded_df.isnull().sum()"
   ]
  },
  {
   "cell_type": "code",
   "execution_count": 36,
   "id": "9df5dda6",
   "metadata": {},
   "outputs": [],
   "source": [
    "titanic_encoded=titanic_encoded_df.drop([\"Sex\",\"Embarked\",\"Sex_female\",\"Embarked_S\"],axis=1)"
   ]
  },
  {
   "cell_type": "code",
   "execution_count": 37,
   "id": "a9b4343c",
   "metadata": {},
   "outputs": [
    {
     "data": {
      "text/html": [
       "<div>\n",
       "<style scoped>\n",
       "    .dataframe tbody tr th:only-of-type {\n",
       "        vertical-align: middle;\n",
       "    }\n",
       "\n",
       "    .dataframe tbody tr th {\n",
       "        vertical-align: top;\n",
       "    }\n",
       "\n",
       "    .dataframe thead th {\n",
       "        text-align: right;\n",
       "    }\n",
       "</style>\n",
       "<table border=\"1\" class=\"dataframe\">\n",
       "  <thead>\n",
       "    <tr style=\"text-align: right;\">\n",
       "      <th></th>\n",
       "      <th>Survived</th>\n",
       "      <th>Pclass</th>\n",
       "      <th>Age</th>\n",
       "      <th>SibSp</th>\n",
       "      <th>Parch</th>\n",
       "      <th>Fare</th>\n",
       "      <th>Sex_male</th>\n",
       "      <th>Embarked_C</th>\n",
       "      <th>Embarked_Q</th>\n",
       "    </tr>\n",
       "  </thead>\n",
       "  <tbody>\n",
       "    <tr>\n",
       "      <th>0</th>\n",
       "      <td>0</td>\n",
       "      <td>3</td>\n",
       "      <td>22.000000</td>\n",
       "      <td>1</td>\n",
       "      <td>0</td>\n",
       "      <td>7.2500</td>\n",
       "      <td>1.0</td>\n",
       "      <td>0.0</td>\n",
       "      <td>0.0</td>\n",
       "    </tr>\n",
       "    <tr>\n",
       "      <th>1</th>\n",
       "      <td>1</td>\n",
       "      <td>1</td>\n",
       "      <td>38.000000</td>\n",
       "      <td>1</td>\n",
       "      <td>0</td>\n",
       "      <td>71.2833</td>\n",
       "      <td>0.0</td>\n",
       "      <td>1.0</td>\n",
       "      <td>0.0</td>\n",
       "    </tr>\n",
       "    <tr>\n",
       "      <th>2</th>\n",
       "      <td>1</td>\n",
       "      <td>3</td>\n",
       "      <td>26.000000</td>\n",
       "      <td>0</td>\n",
       "      <td>0</td>\n",
       "      <td>7.9250</td>\n",
       "      <td>0.0</td>\n",
       "      <td>0.0</td>\n",
       "      <td>0.0</td>\n",
       "    </tr>\n",
       "    <tr>\n",
       "      <th>3</th>\n",
       "      <td>1</td>\n",
       "      <td>1</td>\n",
       "      <td>35.000000</td>\n",
       "      <td>1</td>\n",
       "      <td>0</td>\n",
       "      <td>53.1000</td>\n",
       "      <td>0.0</td>\n",
       "      <td>0.0</td>\n",
       "      <td>0.0</td>\n",
       "    </tr>\n",
       "    <tr>\n",
       "      <th>4</th>\n",
       "      <td>0</td>\n",
       "      <td>3</td>\n",
       "      <td>35.000000</td>\n",
       "      <td>0</td>\n",
       "      <td>0</td>\n",
       "      <td>8.0500</td>\n",
       "      <td>1.0</td>\n",
       "      <td>0.0</td>\n",
       "      <td>0.0</td>\n",
       "    </tr>\n",
       "    <tr>\n",
       "      <th>...</th>\n",
       "      <td>...</td>\n",
       "      <td>...</td>\n",
       "      <td>...</td>\n",
       "      <td>...</td>\n",
       "      <td>...</td>\n",
       "      <td>...</td>\n",
       "      <td>...</td>\n",
       "      <td>...</td>\n",
       "      <td>...</td>\n",
       "    </tr>\n",
       "    <tr>\n",
       "      <th>886</th>\n",
       "      <td>0</td>\n",
       "      <td>2</td>\n",
       "      <td>27.000000</td>\n",
       "      <td>0</td>\n",
       "      <td>0</td>\n",
       "      <td>13.0000</td>\n",
       "      <td>1.0</td>\n",
       "      <td>0.0</td>\n",
       "      <td>0.0</td>\n",
       "    </tr>\n",
       "    <tr>\n",
       "      <th>887</th>\n",
       "      <td>1</td>\n",
       "      <td>1</td>\n",
       "      <td>19.000000</td>\n",
       "      <td>0</td>\n",
       "      <td>0</td>\n",
       "      <td>30.0000</td>\n",
       "      <td>0.0</td>\n",
       "      <td>0.0</td>\n",
       "      <td>0.0</td>\n",
       "    </tr>\n",
       "    <tr>\n",
       "      <th>888</th>\n",
       "      <td>0</td>\n",
       "      <td>3</td>\n",
       "      <td>29.699118</td>\n",
       "      <td>1</td>\n",
       "      <td>2</td>\n",
       "      <td>23.4500</td>\n",
       "      <td>0.0</td>\n",
       "      <td>0.0</td>\n",
       "      <td>0.0</td>\n",
       "    </tr>\n",
       "    <tr>\n",
       "      <th>889</th>\n",
       "      <td>1</td>\n",
       "      <td>1</td>\n",
       "      <td>26.000000</td>\n",
       "      <td>0</td>\n",
       "      <td>0</td>\n",
       "      <td>30.0000</td>\n",
       "      <td>1.0</td>\n",
       "      <td>1.0</td>\n",
       "      <td>0.0</td>\n",
       "    </tr>\n",
       "    <tr>\n",
       "      <th>890</th>\n",
       "      <td>0</td>\n",
       "      <td>3</td>\n",
       "      <td>32.000000</td>\n",
       "      <td>0</td>\n",
       "      <td>0</td>\n",
       "      <td>7.7500</td>\n",
       "      <td>1.0</td>\n",
       "      <td>0.0</td>\n",
       "      <td>1.0</td>\n",
       "    </tr>\n",
       "  </tbody>\n",
       "</table>\n",
       "<p>891 rows × 9 columns</p>\n",
       "</div>"
      ],
      "text/plain": [
       "     Survived  Pclass        Age  SibSp  Parch     Fare  Sex_male  Embarked_C  \\\n",
       "0           0       3  22.000000      1      0   7.2500       1.0         0.0   \n",
       "1           1       1  38.000000      1      0  71.2833       0.0         1.0   \n",
       "2           1       3  26.000000      0      0   7.9250       0.0         0.0   \n",
       "3           1       1  35.000000      1      0  53.1000       0.0         0.0   \n",
       "4           0       3  35.000000      0      0   8.0500       1.0         0.0   \n",
       "..        ...     ...        ...    ...    ...      ...       ...         ...   \n",
       "886         0       2  27.000000      0      0  13.0000       1.0         0.0   \n",
       "887         1       1  19.000000      0      0  30.0000       0.0         0.0   \n",
       "888         0       3  29.699118      1      2  23.4500       0.0         0.0   \n",
       "889         1       1  26.000000      0      0  30.0000       1.0         1.0   \n",
       "890         0       3  32.000000      0      0   7.7500       1.0         0.0   \n",
       "\n",
       "     Embarked_Q  \n",
       "0           0.0  \n",
       "1           0.0  \n",
       "2           0.0  \n",
       "3           0.0  \n",
       "4           0.0  \n",
       "..          ...  \n",
       "886         0.0  \n",
       "887         0.0  \n",
       "888         0.0  \n",
       "889         0.0  \n",
       "890         1.0  \n",
       "\n",
       "[891 rows x 9 columns]"
      ]
     },
     "execution_count": 37,
     "metadata": {},
     "output_type": "execute_result"
    }
   ],
   "source": [
    "titanic_encoded"
   ]
  },
  {
   "cell_type": "code",
   "execution_count": null,
   "id": "db6b19a9",
   "metadata": {},
   "outputs": [],
   "source": []
  },
  {
   "cell_type": "code",
   "execution_count": 38,
   "id": "b5682a90",
   "metadata": {},
   "outputs": [],
   "source": [
    "# independent variable.\n",
    "x=titanic_encoded.iloc[:,1:]"
   ]
  },
  {
   "cell_type": "code",
   "execution_count": 39,
   "id": "29d28b7e",
   "metadata": {},
   "outputs": [
    {
     "data": {
      "text/html": [
       "<div>\n",
       "<style scoped>\n",
       "    .dataframe tbody tr th:only-of-type {\n",
       "        vertical-align: middle;\n",
       "    }\n",
       "\n",
       "    .dataframe tbody tr th {\n",
       "        vertical-align: top;\n",
       "    }\n",
       "\n",
       "    .dataframe thead th {\n",
       "        text-align: right;\n",
       "    }\n",
       "</style>\n",
       "<table border=\"1\" class=\"dataframe\">\n",
       "  <thead>\n",
       "    <tr style=\"text-align: right;\">\n",
       "      <th></th>\n",
       "      <th>Pclass</th>\n",
       "      <th>Age</th>\n",
       "      <th>SibSp</th>\n",
       "      <th>Parch</th>\n",
       "      <th>Fare</th>\n",
       "      <th>Sex_male</th>\n",
       "      <th>Embarked_C</th>\n",
       "      <th>Embarked_Q</th>\n",
       "    </tr>\n",
       "  </thead>\n",
       "  <tbody>\n",
       "    <tr>\n",
       "      <th>0</th>\n",
       "      <td>3</td>\n",
       "      <td>22.000000</td>\n",
       "      <td>1</td>\n",
       "      <td>0</td>\n",
       "      <td>7.2500</td>\n",
       "      <td>1.0</td>\n",
       "      <td>0.0</td>\n",
       "      <td>0.0</td>\n",
       "    </tr>\n",
       "    <tr>\n",
       "      <th>1</th>\n",
       "      <td>1</td>\n",
       "      <td>38.000000</td>\n",
       "      <td>1</td>\n",
       "      <td>0</td>\n",
       "      <td>71.2833</td>\n",
       "      <td>0.0</td>\n",
       "      <td>1.0</td>\n",
       "      <td>0.0</td>\n",
       "    </tr>\n",
       "    <tr>\n",
       "      <th>2</th>\n",
       "      <td>3</td>\n",
       "      <td>26.000000</td>\n",
       "      <td>0</td>\n",
       "      <td>0</td>\n",
       "      <td>7.9250</td>\n",
       "      <td>0.0</td>\n",
       "      <td>0.0</td>\n",
       "      <td>0.0</td>\n",
       "    </tr>\n",
       "    <tr>\n",
       "      <th>3</th>\n",
       "      <td>1</td>\n",
       "      <td>35.000000</td>\n",
       "      <td>1</td>\n",
       "      <td>0</td>\n",
       "      <td>53.1000</td>\n",
       "      <td>0.0</td>\n",
       "      <td>0.0</td>\n",
       "      <td>0.0</td>\n",
       "    </tr>\n",
       "    <tr>\n",
       "      <th>4</th>\n",
       "      <td>3</td>\n",
       "      <td>35.000000</td>\n",
       "      <td>0</td>\n",
       "      <td>0</td>\n",
       "      <td>8.0500</td>\n",
       "      <td>1.0</td>\n",
       "      <td>0.0</td>\n",
       "      <td>0.0</td>\n",
       "    </tr>\n",
       "    <tr>\n",
       "      <th>...</th>\n",
       "      <td>...</td>\n",
       "      <td>...</td>\n",
       "      <td>...</td>\n",
       "      <td>...</td>\n",
       "      <td>...</td>\n",
       "      <td>...</td>\n",
       "      <td>...</td>\n",
       "      <td>...</td>\n",
       "    </tr>\n",
       "    <tr>\n",
       "      <th>886</th>\n",
       "      <td>2</td>\n",
       "      <td>27.000000</td>\n",
       "      <td>0</td>\n",
       "      <td>0</td>\n",
       "      <td>13.0000</td>\n",
       "      <td>1.0</td>\n",
       "      <td>0.0</td>\n",
       "      <td>0.0</td>\n",
       "    </tr>\n",
       "    <tr>\n",
       "      <th>887</th>\n",
       "      <td>1</td>\n",
       "      <td>19.000000</td>\n",
       "      <td>0</td>\n",
       "      <td>0</td>\n",
       "      <td>30.0000</td>\n",
       "      <td>0.0</td>\n",
       "      <td>0.0</td>\n",
       "      <td>0.0</td>\n",
       "    </tr>\n",
       "    <tr>\n",
       "      <th>888</th>\n",
       "      <td>3</td>\n",
       "      <td>29.699118</td>\n",
       "      <td>1</td>\n",
       "      <td>2</td>\n",
       "      <td>23.4500</td>\n",
       "      <td>0.0</td>\n",
       "      <td>0.0</td>\n",
       "      <td>0.0</td>\n",
       "    </tr>\n",
       "    <tr>\n",
       "      <th>889</th>\n",
       "      <td>1</td>\n",
       "      <td>26.000000</td>\n",
       "      <td>0</td>\n",
       "      <td>0</td>\n",
       "      <td>30.0000</td>\n",
       "      <td>1.0</td>\n",
       "      <td>1.0</td>\n",
       "      <td>0.0</td>\n",
       "    </tr>\n",
       "    <tr>\n",
       "      <th>890</th>\n",
       "      <td>3</td>\n",
       "      <td>32.000000</td>\n",
       "      <td>0</td>\n",
       "      <td>0</td>\n",
       "      <td>7.7500</td>\n",
       "      <td>1.0</td>\n",
       "      <td>0.0</td>\n",
       "      <td>1.0</td>\n",
       "    </tr>\n",
       "  </tbody>\n",
       "</table>\n",
       "<p>891 rows × 8 columns</p>\n",
       "</div>"
      ],
      "text/plain": [
       "     Pclass        Age  SibSp  Parch     Fare  Sex_male  Embarked_C  \\\n",
       "0         3  22.000000      1      0   7.2500       1.0         0.0   \n",
       "1         1  38.000000      1      0  71.2833       0.0         1.0   \n",
       "2         3  26.000000      0      0   7.9250       0.0         0.0   \n",
       "3         1  35.000000      1      0  53.1000       0.0         0.0   \n",
       "4         3  35.000000      0      0   8.0500       1.0         0.0   \n",
       "..      ...        ...    ...    ...      ...       ...         ...   \n",
       "886       2  27.000000      0      0  13.0000       1.0         0.0   \n",
       "887       1  19.000000      0      0  30.0000       0.0         0.0   \n",
       "888       3  29.699118      1      2  23.4500       0.0         0.0   \n",
       "889       1  26.000000      0      0  30.0000       1.0         1.0   \n",
       "890       3  32.000000      0      0   7.7500       1.0         0.0   \n",
       "\n",
       "     Embarked_Q  \n",
       "0           0.0  \n",
       "1           0.0  \n",
       "2           0.0  \n",
       "3           0.0  \n",
       "4           0.0  \n",
       "..          ...  \n",
       "886         0.0  \n",
       "887         0.0  \n",
       "888         0.0  \n",
       "889         0.0  \n",
       "890         1.0  \n",
       "\n",
       "[891 rows x 8 columns]"
      ]
     },
     "execution_count": 39,
     "metadata": {},
     "output_type": "execute_result"
    }
   ],
   "source": [
    "x"
   ]
  },
  {
   "cell_type": "code",
   "execution_count": 40,
   "id": "2f8fb5db",
   "metadata": {},
   "outputs": [],
   "source": [
    "# dependent variable.\n",
    "y=titanic_encoded[\"Survived\"]"
   ]
  },
  {
   "cell_type": "code",
   "execution_count": 41,
   "id": "e0cfe4ca",
   "metadata": {},
   "outputs": [
    {
     "data": {
      "text/plain": [
       "0      0\n",
       "1      1\n",
       "2      1\n",
       "3      1\n",
       "4      0\n",
       "      ..\n",
       "886    0\n",
       "887    1\n",
       "888    0\n",
       "889    1\n",
       "890    0\n",
       "Name: Survived, Length: 891, dtype: int64"
      ]
     },
     "execution_count": 41,
     "metadata": {},
     "output_type": "execute_result"
    }
   ],
   "source": [
    "y"
   ]
  },
  {
   "cell_type": "code",
   "execution_count": 42,
   "id": "7cf7f233",
   "metadata": {},
   "outputs": [
    {
     "data": {
      "text/plain": [
       "(891, 8)"
      ]
     },
     "execution_count": 42,
     "metadata": {},
     "output_type": "execute_result"
    }
   ],
   "source": [
    "x.shape"
   ]
  },
  {
   "cell_type": "code",
   "execution_count": 43,
   "id": "872e7a1b",
   "metadata": {},
   "outputs": [
    {
     "data": {
      "text/plain": [
       "(891,)"
      ]
     },
     "execution_count": 43,
     "metadata": {},
     "output_type": "execute_result"
    }
   ],
   "source": [
    "y.shape"
   ]
  },
  {
   "cell_type": "code",
   "execution_count": 44,
   "id": "5f8dc1bf",
   "metadata": {},
   "outputs": [],
   "source": [
    "# train test split\n",
    "from sklearn.model_selection import train_test_split"
   ]
  },
  {
   "cell_type": "code",
   "execution_count": 45,
   "id": "a6e4ff53",
   "metadata": {},
   "outputs": [],
   "source": [
    "x_train,x_test,y_train,y_test=train_test_split(x,y,test_size=0.2)"
   ]
  },
  {
   "cell_type": "code",
   "execution_count": 46,
   "id": "4cc72ede",
   "metadata": {},
   "outputs": [],
   "source": [
    "from sklearn.ensemble import RandomForestClassifier"
   ]
  },
  {
   "cell_type": "code",
   "execution_count": 47,
   "id": "91aa5541",
   "metadata": {},
   "outputs": [],
   "source": [
    "RFC= RandomForestClassifier(random_state = 0,n_estimators=20)"
   ]
  },
  {
   "cell_type": "code",
   "execution_count": 48,
   "id": "7d89237e",
   "metadata": {},
   "outputs": [
    {
     "data": {
      "text/plain": [
       "RandomForestClassifier(n_estimators=20, random_state=0)"
      ]
     },
     "execution_count": 48,
     "metadata": {},
     "output_type": "execute_result"
    }
   ],
   "source": [
    "RFC.fit(x_train,y_train)"
   ]
  },
  {
   "cell_type": "code",
   "execution_count": 49,
   "id": "0252680a",
   "metadata": {},
   "outputs": [],
   "source": [
    "from sklearn.metrics import accuracy_score"
   ]
  },
  {
   "cell_type": "code",
   "execution_count": 50,
   "id": "e7386014",
   "metadata": {},
   "outputs": [],
   "source": [
    "pred=RFC.predict(x_test)"
   ]
  },
  {
   "cell_type": "code",
   "execution_count": 51,
   "id": "08a7f0b0",
   "metadata": {},
   "outputs": [
    {
     "data": {
      "text/plain": [
       "array([1, 1, 1, 0, 0, 0, 1, 0, 0, 0, 0, 1, 0, 1, 0, 0, 1, 1, 1, 0, 0, 0,\n",
       "       1, 0, 0, 0, 0, 0, 1, 0, 1, 0, 1, 0, 1, 0, 1, 1, 0, 1, 0, 0, 1, 0,\n",
       "       1, 1, 0, 1, 0, 1, 0, 0, 0, 1, 1, 0, 1, 0, 0, 1, 0, 0, 1, 0, 0, 0,\n",
       "       0, 0, 0, 0, 0, 1, 0, 1, 0, 1, 1, 0, 0, 0, 0, 1, 0, 0, 0, 0, 0, 0,\n",
       "       1, 0, 0, 0, 0, 0, 1, 1, 0, 0, 1, 1, 0, 0, 1, 1, 0, 0, 0, 0, 0, 1,\n",
       "       0, 1, 0, 1, 1, 1, 0, 0, 1, 1, 0, 1, 0, 0, 0, 0, 0, 0, 0, 1, 0, 0,\n",
       "       0, 0, 0, 0, 0, 1, 0, 0, 1, 0, 1, 1, 0, 0, 0, 0, 0, 1, 1, 0, 1, 0,\n",
       "       1, 0, 0, 1, 0, 0, 0, 0, 1, 1, 0, 0, 0, 0, 0, 1, 0, 0, 1, 0, 0, 0,\n",
       "       0, 0, 0], dtype=int64)"
      ]
     },
     "execution_count": 51,
     "metadata": {},
     "output_type": "execute_result"
    }
   ],
   "source": [
    "pred"
   ]
  },
  {
   "cell_type": "code",
   "execution_count": 52,
   "id": "1c728419",
   "metadata": {},
   "outputs": [],
   "source": [
    "acc=accuracy_score(pred,y_test)"
   ]
  },
  {
   "cell_type": "code",
   "execution_count": 53,
   "id": "795f0104",
   "metadata": {},
   "outputs": [
    {
     "data": {
      "text/plain": [
       "0.7430167597765364"
      ]
     },
     "execution_count": 53,
     "metadata": {},
     "output_type": "execute_result"
    }
   ],
   "source": [
    "acc"
   ]
  },
  {
   "cell_type": "code",
   "execution_count": 54,
   "id": "ba73e5c7",
   "metadata": {},
   "outputs": [],
   "source": [
    "from sklearn.metrics import classification_report,confusion_matrix"
   ]
  },
  {
   "cell_type": "code",
   "execution_count": 55,
   "id": "87b721bd",
   "metadata": {},
   "outputs": [
    {
     "name": "stdout",
     "output_type": "stream",
     "text": [
      "[[93 25]\n",
      " [21 40]]\n"
     ]
    }
   ],
   "source": [
    "print(confusion_matrix(pred,y_test))"
   ]
  },
  {
   "cell_type": "code",
   "execution_count": 56,
   "id": "584feb21",
   "metadata": {},
   "outputs": [
    {
     "data": {
      "text/plain": [
       "0.7430167597765364"
      ]
     },
     "execution_count": 56,
     "metadata": {},
     "output_type": "execute_result"
    }
   ],
   "source": [
    "acc=(92+41)/(92+23+23+41)\n",
    "acc"
   ]
  },
  {
   "cell_type": "code",
   "execution_count": 57,
   "id": "4d73171d",
   "metadata": {},
   "outputs": [],
   "source": [
    "from sklearn import tree"
   ]
  },
  {
   "cell_type": "code",
   "execution_count": 58,
   "id": "cc76d162",
   "metadata": {},
   "outputs": [
    {
     "data": {
      "text/plain": [
       "[Text(0.22502148218294052, 0.9722222222222222, 'X[1] <= 5.5\\ngini = 0.473\\nsamples = 451\\nvalue = [438, 274]'),\n",
       " Text(0.03591470258136925, 0.9166666666666666, 'X[7] <= 0.5\\ngini = 0.298\\nsamples = 21\\nvalue = [6, 27]'),\n",
       " Text(0.026936026936026935, 0.8611111111111112, 'X[1] <= 2.5\\ngini = 0.18\\nsamples = 19\\nvalue = [3, 27]'),\n",
       " Text(0.017957351290684626, 0.8055555555555556, 'X[5] <= 0.5\\ngini = 0.375\\nsamples = 9\\nvalue = [3, 9]'),\n",
       " Text(0.008978675645342313, 0.75, 'gini = 0.0\\nsamples = 4\\nvalue = [0, 5]'),\n",
       " Text(0.026936026936026935, 0.75, 'X[2] <= 2.0\\ngini = 0.49\\nsamples = 5\\nvalue = [3, 4]'),\n",
       " Text(0.017957351290684626, 0.6944444444444444, 'gini = 0.0\\nsamples = 3\\nvalue = [0, 4]'),\n",
       " Text(0.03591470258136925, 0.6944444444444444, 'gini = 0.0\\nsamples = 2\\nvalue = [3, 0]'),\n",
       " Text(0.03591470258136925, 0.8055555555555556, 'gini = 0.0\\nsamples = 10\\nvalue = [0, 18]'),\n",
       " Text(0.04489337822671156, 0.8611111111111112, 'gini = 0.0\\nsamples = 2\\nvalue = [3, 0]'),\n",
       " Text(0.4141282617845118, 0.9166666666666666, 'X[5] <= 0.5\\ngini = 0.463\\nsamples = 430\\nvalue = [432, 247]'),\n",
       " Text(0.16722783389450055, 0.8611111111111112, 'X[0] <= 2.5\\ngini = 0.367\\nsamples = 144\\nvalue = [57, 178]'),\n",
       " Text(0.08080808080808081, 0.8055555555555556, 'X[1] <= 23.5\\ngini = 0.111\\nsamples = 85\\nvalue = [8, 128]'),\n",
       " Text(0.0718294051627385, 0.75, 'gini = 0.0\\nsamples = 18\\nvalue = [0, 26]'),\n",
       " Text(0.08978675645342311, 0.75, 'X[0] <= 1.5\\ngini = 0.135\\nsamples = 67\\nvalue = [8, 102]'),\n",
       " Text(0.05387205387205387, 0.6944444444444444, 'X[4] <= 143.592\\ngini = 0.029\\nsamples = 40\\nvalue = [1, 67]'),\n",
       " Text(0.04489337822671156, 0.6388888888888888, 'gini = 0.0\\nsamples = 33\\nvalue = [0, 58]'),\n",
       " Text(0.06285072951739619, 0.6388888888888888, 'X[4] <= 152.506\\ngini = 0.18\\nsamples = 7\\nvalue = [1, 9]'),\n",
       " Text(0.05387205387205387, 0.5833333333333334, 'gini = 0.0\\nsamples = 1\\nvalue = [1, 0]'),\n",
       " Text(0.0718294051627385, 0.5833333333333334, 'gini = 0.0\\nsamples = 6\\nvalue = [0, 9]'),\n",
       " Text(0.12570145903479238, 0.6944444444444444, 'X[2] <= 0.5\\ngini = 0.278\\nsamples = 27\\nvalue = [7, 35]'),\n",
       " Text(0.09876543209876543, 0.6388888888888888, 'X[4] <= 13.25\\ngini = 0.337\\nsamples = 17\\nvalue = [6, 22]'),\n",
       " Text(0.08978675645342311, 0.5833333333333334, 'X[4] <= 12.825\\ngini = 0.397\\nsamples = 13\\nvalue = [6, 16]'),\n",
       " Text(0.08080808080808081, 0.5277777777777778, 'gini = 0.0\\nsamples = 4\\nvalue = [0, 5]'),\n",
       " Text(0.09876543209876543, 0.5277777777777778, 'X[1] <= 26.0\\ngini = 0.457\\nsamples = 9\\nvalue = [6, 11]'),\n",
       " Text(0.08978675645342311, 0.4722222222222222, 'gini = 0.0\\nsamples = 1\\nvalue = [3, 0]'),\n",
       " Text(0.10774410774410774, 0.4722222222222222, 'X[1] <= 37.0\\ngini = 0.337\\nsamples = 8\\nvalue = [3, 11]'),\n",
       " Text(0.09876543209876543, 0.4166666666666667, 'gini = 0.0\\nsamples = 7\\nvalue = [0, 11]'),\n",
       " Text(0.11672278338945005, 0.4166666666666667, 'gini = 0.0\\nsamples = 1\\nvalue = [3, 0]'),\n",
       " Text(0.10774410774410774, 0.5833333333333334, 'gini = 0.0\\nsamples = 4\\nvalue = [0, 6]'),\n",
       " Text(0.1526374859708193, 0.6388888888888888, 'X[4] <= 26.5\\ngini = 0.133\\nsamples = 10\\nvalue = [1, 13]'),\n",
       " Text(0.143658810325477, 0.5833333333333334, 'X[6] <= 0.5\\ngini = 0.245\\nsamples = 5\\nvalue = [1, 6]'),\n",
       " Text(0.13468013468013468, 0.5277777777777778, 'X[1] <= 40.0\\ngini = 0.278\\nsamples = 4\\nvalue = [1, 5]'),\n",
       " Text(0.12570145903479238, 0.4722222222222222, 'gini = 0.0\\nsamples = 3\\nvalue = [0, 5]'),\n",
       " Text(0.143658810325477, 0.4722222222222222, 'gini = 0.0\\nsamples = 1\\nvalue = [1, 0]'),\n",
       " Text(0.1526374859708193, 0.5277777777777778, 'gini = 0.0\\nsamples = 1\\nvalue = [0, 1]'),\n",
       " Text(0.16161616161616163, 0.5833333333333334, 'gini = 0.0\\nsamples = 5\\nvalue = [0, 7]'),\n",
       " Text(0.2536475869809203, 0.8055555555555556, 'X[2] <= 1.5\\ngini = 0.5\\nsamples = 59\\nvalue = [49, 50]'),\n",
       " Text(0.244668911335578, 0.75, 'X[2] <= 0.5\\ngini = 0.479\\nsamples = 49\\nvalue = [33, 50]'),\n",
       " Text(0.19753086419753085, 0.6944444444444444, 'X[1] <= 30.5\\ngini = 0.444\\nsamples = 35\\nvalue = [21, 42]'),\n",
       " Text(0.18855218855218855, 0.6388888888888888, 'X[1] <= 21.5\\ngini = 0.375\\nsamples = 30\\nvalue = [14, 42]'),\n",
       " Text(0.17957351290684623, 0.5833333333333334, 'gini = 0.0\\nsamples = 4\\nvalue = [0, 8]'),\n",
       " Text(0.19753086419753085, 0.5833333333333334, 'X[4] <= 11.496\\ngini = 0.413\\nsamples = 26\\nvalue = [14, 34]'),\n",
       " Text(0.18855218855218855, 0.5277777777777778, 'X[3] <= 1.0\\ngini = 0.46\\nsamples = 22\\nvalue = [14, 25]'),\n",
       " Text(0.17957351290684623, 0.4722222222222222, 'X[7] <= 0.5\\ngini = 0.438\\nsamples = 21\\nvalue = [12, 25]'),\n",
       " Text(0.15712682379349047, 0.4166666666666667, 'X[1] <= 22.5\\ngini = 0.498\\nsamples = 11\\nvalue = [9, 8]'),\n",
       " Text(0.13916947250280584, 0.3611111111111111, 'X[4] <= 8.794\\ngini = 0.48\\nsamples = 4\\nvalue = [6, 4]'),\n",
       " Text(0.13019079685746351, 0.3055555555555556, 'gini = 0.0\\nsamples = 2\\nvalue = [0, 4]'),\n",
       " Text(0.14814814814814814, 0.3055555555555556, 'gini = 0.0\\nsamples = 2\\nvalue = [6, 0]'),\n",
       " Text(0.1750841750841751, 0.3611111111111111, 'X[6] <= 0.5\\ngini = 0.49\\nsamples = 7\\nvalue = [3, 4]'),\n",
       " Text(0.16610549943883277, 0.3055555555555556, 'X[1] <= 27.85\\ngini = 0.5\\nsamples = 6\\nvalue = [3, 3]'),\n",
       " Text(0.15712682379349047, 0.25, 'X[1] <= 24.5\\ngini = 0.375\\nsamples = 4\\nvalue = [1, 3]'),\n",
       " Text(0.14814814814814814, 0.19444444444444445, 'X[4] <= 7.738\\ngini = 0.5\\nsamples = 2\\nvalue = [1, 1]'),\n",
       " Text(0.13916947250280584, 0.1388888888888889, 'gini = 0.0\\nsamples = 1\\nvalue = [0, 1]'),\n",
       " Text(0.15712682379349047, 0.1388888888888889, 'gini = 0.0\\nsamples = 1\\nvalue = [1, 0]'),\n",
       " Text(0.16610549943883277, 0.19444444444444445, 'gini = 0.0\\nsamples = 2\\nvalue = [0, 2]'),\n",
       " Text(0.1750841750841751, 0.25, 'gini = 0.0\\nsamples = 2\\nvalue = [2, 0]'),\n",
       " Text(0.1840628507295174, 0.3055555555555556, 'gini = 0.0\\nsamples = 1\\nvalue = [0, 1]'),\n",
       " Text(0.20202020202020202, 0.4166666666666667, 'X[4] <= 7.681\\ngini = 0.255\\nsamples = 10\\nvalue = [3, 17]'),\n",
       " Text(0.19304152637485972, 0.3611111111111111, 'gini = 0.0\\nsamples = 1\\nvalue = [1, 0]'),\n",
       " Text(0.21099887766554434, 0.3611111111111111, 'X[1] <= 25.85\\ngini = 0.188\\nsamples = 9\\nvalue = [2, 17]'),\n",
       " Text(0.20202020202020202, 0.3055555555555556, 'gini = 0.0\\nsamples = 1\\nvalue = [0, 1]'),\n",
       " Text(0.21997755331088664, 0.3055555555555556, 'X[4] <= 7.742\\ngini = 0.198\\nsamples = 8\\nvalue = [2, 16]'),\n",
       " Text(0.21099887766554434, 0.25, 'gini = 0.0\\nsamples = 1\\nvalue = [0, 4]'),\n",
       " Text(0.22895622895622897, 0.25, 'X[4] <= 7.815\\ngini = 0.245\\nsamples = 7\\nvalue = [2, 12]'),\n",
       " Text(0.21997755331088664, 0.19444444444444445, 'gini = 0.26\\nsamples = 6\\nvalue = [2, 11]'),\n",
       " Text(0.23793490460157127, 0.19444444444444445, 'gini = 0.0\\nsamples = 1\\nvalue = [0, 1]'),\n",
       " Text(0.19753086419753085, 0.4722222222222222, 'gini = 0.0\\nsamples = 1\\nvalue = [2, 0]'),\n",
       " Text(0.20650953984287318, 0.5277777777777778, 'gini = 0.0\\nsamples = 4\\nvalue = [0, 9]'),\n",
       " Text(0.20650953984287318, 0.6388888888888888, 'gini = 0.0\\nsamples = 5\\nvalue = [7, 0]'),\n",
       " Text(0.29180695847362514, 0.6944444444444444, 'X[7] <= 0.5\\ngini = 0.48\\nsamples = 14\\nvalue = [12, 8]'),\n",
       " Text(0.2828282828282828, 0.6388888888888888, 'X[1] <= 37.5\\ngini = 0.465\\nsamples = 13\\nvalue = [12, 7]'),\n",
       " Text(0.2738496071829405, 0.5833333333333334, 'X[1] <= 32.85\\ngini = 0.492\\nsamples = 11\\nvalue = [9, 7]'),\n",
       " Text(0.2648709315375982, 0.5277777777777778, 'X[4] <= 8.84\\ngini = 0.48\\nsamples = 10\\nvalue = [9, 6]'),\n",
       " Text(0.2558922558922559, 0.4722222222222222, 'gini = 0.0\\nsamples = 1\\nvalue = [0, 2]'),\n",
       " Text(0.2738496071829405, 0.4722222222222222, 'X[4] <= 15.673\\ngini = 0.426\\nsamples = 9\\nvalue = [9, 4]'),\n",
       " Text(0.2558922558922559, 0.4166666666666667, 'X[3] <= 0.5\\ngini = 0.245\\nsamples = 5\\nvalue = [6, 1]'),\n",
       " Text(0.24691358024691357, 0.3611111111111111, 'X[1] <= 17.5\\ngini = 0.32\\nsamples = 3\\nvalue = [4, 1]'),\n",
       " Text(0.23793490460157127, 0.3055555555555556, 'gini = 0.0\\nsamples = 1\\nvalue = [0, 1]'),\n",
       " Text(0.2558922558922559, 0.3055555555555556, 'gini = 0.0\\nsamples = 2\\nvalue = [4, 0]'),\n",
       " Text(0.2648709315375982, 0.3611111111111111, 'gini = 0.0\\nsamples = 2\\nvalue = [2, 0]'),\n",
       " Text(0.29180695847362514, 0.4166666666666667, 'X[4] <= 16.95\\ngini = 0.5\\nsamples = 4\\nvalue = [3, 3]'),\n",
       " Text(0.2828282828282828, 0.3611111111111111, 'gini = 0.0\\nsamples = 1\\nvalue = [0, 2]'),\n",
       " Text(0.30078563411896747, 0.3611111111111111, 'X[6] <= 0.5\\ngini = 0.375\\nsamples = 3\\nvalue = [3, 1]'),\n",
       " Text(0.29180695847362514, 0.3055555555555556, 'gini = 0.0\\nsamples = 2\\nvalue = [3, 0]'),\n",
       " Text(0.30976430976430974, 0.3055555555555556, 'gini = 0.0\\nsamples = 1\\nvalue = [0, 1]'),\n",
       " Text(0.2828282828282828, 0.5277777777777778, 'gini = 0.0\\nsamples = 1\\nvalue = [0, 1]'),\n",
       " Text(0.29180695847362514, 0.5833333333333334, 'gini = 0.0\\nsamples = 2\\nvalue = [3, 0]'),\n",
       " Text(0.30078563411896747, 0.6388888888888888, 'gini = 0.0\\nsamples = 1\\nvalue = [0, 1]'),\n",
       " Text(0.26262626262626265, 0.75, 'gini = 0.0\\nsamples = 10\\nvalue = [16, 0]'),\n",
       " Text(0.661028689674523, 0.8611111111111112, 'X[0] <= 1.5\\ngini = 0.263\\nsamples = 286\\nvalue = [375, 69]'),\n",
       " Text(0.43546576879910215, 0.8055555555555556, 'X[4] <= 52.277\\ngini = 0.451\\nsamples = 62\\nvalue = [65, 34]'),\n",
       " Text(0.38159371492704824, 0.75, 'X[1] <= 57.0\\ngini = 0.375\\nsamples = 31\\nvalue = [39, 13]'),\n",
       " Text(0.372615039281706, 0.6944444444444444, 'X[4] <= 27.15\\ngini = 0.416\\nsamples = 26\\nvalue = [31, 13]'),\n",
       " Text(0.3546576879910213, 0.6388888888888888, 'X[6] <= 0.5\\ngini = 0.484\\nsamples = 11\\nvalue = [7, 10]'),\n",
       " Text(0.345679012345679, 0.5833333333333334, 'X[4] <= 26.144\\ngini = 0.492\\nsamples = 10\\nvalue = [7, 9]'),\n",
       " Text(0.3367003367003367, 0.5277777777777778, 'gini = 0.0\\nsamples = 4\\nvalue = [7, 0]'),\n",
       " Text(0.3546576879910213, 0.5277777777777778, 'gini = 0.0\\nsamples = 6\\nvalue = [0, 9]'),\n",
       " Text(0.36363636363636365, 0.5833333333333334, 'gini = 0.0\\nsamples = 1\\nvalue = [0, 1]'),\n",
       " Text(0.39057239057239057, 0.6388888888888888, 'X[2] <= 0.5\\ngini = 0.198\\nsamples = 15\\nvalue = [24, 3]'),\n",
       " Text(0.38159371492704824, 0.5833333333333334, 'X[3] <= 0.5\\ngini = 0.227\\nsamples = 13\\nvalue = [20, 3]'),\n",
       " Text(0.372615039281706, 0.5277777777777778, 'X[6] <= 0.5\\ngini = 0.245\\nsamples = 12\\nvalue = [18, 3]'),\n",
       " Text(0.3546576879910213, 0.4722222222222222, 'X[1] <= 30.35\\ngini = 0.124\\nsamples = 8\\nvalue = [14, 1]'),\n",
       " Text(0.345679012345679, 0.4166666666666667, 'X[4] <= 32.75\\ngini = 0.153\\nsamples = 5\\nvalue = [11, 1]'),\n",
       " Text(0.3367003367003367, 0.3611111111111111, 'X[1] <= 29.35\\ngini = 0.444\\nsamples = 2\\nvalue = [2, 1]'),\n",
       " Text(0.3277216610549944, 0.3055555555555556, 'gini = 0.0\\nsamples = 1\\nvalue = [2, 0]'),\n",
       " Text(0.345679012345679, 0.3055555555555556, 'gini = 0.0\\nsamples = 1\\nvalue = [0, 1]'),\n",
       " Text(0.3546576879910213, 0.3611111111111111, 'gini = 0.0\\nsamples = 3\\nvalue = [9, 0]'),\n",
       " Text(0.36363636363636365, 0.4166666666666667, 'gini = 0.0\\nsamples = 3\\nvalue = [3, 0]'),\n",
       " Text(0.39057239057239057, 0.4722222222222222, 'X[4] <= 33.098\\ngini = 0.444\\nsamples = 4\\nvalue = [4, 2]'),\n",
       " Text(0.38159371492704824, 0.4166666666666667, 'gini = 0.0\\nsamples = 2\\nvalue = [2, 0]'),\n",
       " Text(0.3995510662177329, 0.4166666666666667, 'X[4] <= 37.812\\ngini = 0.5\\nsamples = 2\\nvalue = [2, 2]'),\n",
       " Text(0.39057239057239057, 0.3611111111111111, 'gini = 0.0\\nsamples = 1\\nvalue = [0, 2]'),\n",
       " Text(0.40852974186307517, 0.3611111111111111, 'gini = 0.0\\nsamples = 1\\nvalue = [2, 0]'),\n",
       " Text(0.39057239057239057, 0.5277777777777778, 'gini = 0.0\\nsamples = 1\\nvalue = [2, 0]'),\n",
       " Text(0.3995510662177329, 0.5833333333333334, 'gini = 0.0\\nsamples = 2\\nvalue = [4, 0]'),\n",
       " Text(0.39057239057239057, 0.6944444444444444, 'gini = 0.0\\nsamples = 5\\nvalue = [8, 0]'),\n",
       " Text(0.489337822671156, 0.75, 'X[1] <= 49.5\\ngini = 0.494\\nsamples = 31\\nvalue = [26, 21]'),\n",
       " Text(0.48035914702581367, 0.6944444444444444, 'X[2] <= 0.5\\ngini = 0.499\\nsamples = 24\\nvalue = [19, 21]'),\n",
       " Text(0.4444444444444444, 0.6388888888888888, 'X[1] <= 37.0\\ngini = 0.444\\nsamples = 9\\nvalue = [8, 4]'),\n",
       " Text(0.43546576879910215, 0.5833333333333334, 'X[6] <= 0.5\\ngini = 0.5\\nsamples = 7\\nvalue = [4, 4]'),\n",
       " Text(0.4264870931537598, 0.5277777777777778, 'gini = 0.0\\nsamples = 1\\nvalue = [1, 0]'),\n",
       " Text(0.4444444444444444, 0.5277777777777778, 'X[3] <= 0.5\\ngini = 0.49\\nsamples = 6\\nvalue = [3, 4]'),\n",
       " Text(0.4264870931537598, 0.4722222222222222, 'X[4] <= 77.965\\ngini = 0.444\\nsamples = 2\\nvalue = [2, 1]'),\n",
       " Text(0.4175084175084175, 0.4166666666666667, 'gini = 0.0\\nsamples = 1\\nvalue = [0, 1]'),\n",
       " Text(0.43546576879910215, 0.4166666666666667, 'gini = 0.0\\nsamples = 1\\nvalue = [2, 0]'),\n",
       " Text(0.4624017957351291, 0.4722222222222222, 'X[3] <= 1.5\\ngini = 0.375\\nsamples = 4\\nvalue = [1, 3]'),\n",
       " Text(0.45342312008978675, 0.4166666666666667, 'gini = 0.0\\nsamples = 2\\nvalue = [0, 2]'),\n",
       " Text(0.4713804713804714, 0.4166666666666667, 'X[1] <= 22.0\\ngini = 0.5\\nsamples = 2\\nvalue = [1, 1]'),\n",
       " Text(0.4624017957351291, 0.3611111111111111, 'gini = 0.0\\nsamples = 1\\nvalue = [0, 1]'),\n",
       " Text(0.48035914702581367, 0.3611111111111111, 'gini = 0.0\\nsamples = 1\\nvalue = [1, 0]'),\n",
       " Text(0.45342312008978675, 0.5833333333333334, 'gini = 0.0\\nsamples = 2\\nvalue = [4, 0]'),\n",
       " Text(0.5162738496071829, 0.6388888888888888, 'X[4] <= 59.087\\ngini = 0.477\\nsamples = 15\\nvalue = [11, 17]'),\n",
       " Text(0.4983164983164983, 0.5833333333333334, 'X[6] <= 0.5\\ngini = 0.337\\nsamples = 6\\nvalue = [3, 11]'),\n",
       " Text(0.489337822671156, 0.5277777777777778, 'X[1] <= 23.0\\ngini = 0.444\\nsamples = 5\\nvalue = [3, 6]'),\n",
       " Text(0.48035914702581367, 0.4722222222222222, 'gini = 0.0\\nsamples = 1\\nvalue = [2, 0]'),\n",
       " Text(0.4983164983164983, 0.4722222222222222, 'X[4] <= 52.827\\ngini = 0.245\\nsamples = 4\\nvalue = [1, 6]'),\n",
       " Text(0.489337822671156, 0.4166666666666667, 'gini = 0.0\\nsamples = 1\\nvalue = [0, 3]'),\n",
       " Text(0.5072951739618407, 0.4166666666666667, 'X[1] <= 34.0\\ngini = 0.375\\nsamples = 3\\nvalue = [1, 3]'),\n",
       " Text(0.4983164983164983, 0.3611111111111111, 'gini = 0.0\\nsamples = 2\\nvalue = [0, 3]'),\n",
       " Text(0.5162738496071829, 0.3611111111111111, 'gini = 0.0\\nsamples = 1\\nvalue = [1, 0]'),\n",
       " Text(0.5072951739618407, 0.5277777777777778, 'gini = 0.0\\nsamples = 1\\nvalue = [0, 5]'),\n",
       " Text(0.5342312008978676, 0.5833333333333334, 'X[4] <= 115.442\\ngini = 0.49\\nsamples = 9\\nvalue = [8, 6]'),\n",
       " Text(0.5252525252525253, 0.5277777777777778, 'X[1] <= 47.0\\ngini = 0.444\\nsamples = 8\\nvalue = [8, 4]'),\n",
       " Text(0.5162738496071829, 0.4722222222222222, 'gini = 0.0\\nsamples = 5\\nvalue = [7, 0]'),\n",
       " Text(0.5342312008978676, 0.4722222222222222, 'X[4] <= 99.994\\ngini = 0.32\\nsamples = 3\\nvalue = [1, 4]'),\n",
       " Text(0.5252525252525253, 0.4166666666666667, 'gini = 0.0\\nsamples = 2\\nvalue = [0, 4]'),\n",
       " Text(0.5432098765432098, 0.4166666666666667, 'gini = 0.0\\nsamples = 1\\nvalue = [1, 0]'),\n",
       " Text(0.5432098765432098, 0.5277777777777778, 'gini = 0.0\\nsamples = 1\\nvalue = [0, 2]'),\n",
       " Text(0.4983164983164983, 0.6944444444444444, 'gini = 0.0\\nsamples = 7\\nvalue = [7, 0]'),\n",
       " Text(0.8865916105499438, 0.8055555555555556, 'X[1] <= 32.25\\ngini = 0.182\\nsamples = 224\\nvalue = [310, 35]'),\n",
       " Text(0.8001192480359147, 0.75, 'X[6] <= 0.5\\ngini = 0.209\\nsamples = 171\\nvalue = [238, 32]'),\n",
       " Text(0.6945145903479237, 0.6944444444444444, 'X[4] <= 51.698\\ngini = 0.183\\nsamples = 149\\nvalue = [211, 24]'),\n",
       " Text(0.6530583613916947, 0.6388888888888888, 'X[7] <= 0.5\\ngini = 0.141\\nsamples = 141\\nvalue = [206, 17]'),\n",
       " Text(0.6440796857463524, 0.5833333333333334, 'X[0] <= 2.5\\ngini = 0.156\\nsamples = 126\\nvalue = [182, 17]'),\n",
       " Text(0.5881032547699214, 0.5277777777777778, 'X[3] <= 0.5\\ngini = 0.089\\nsamples = 27\\nvalue = [41, 2]'),\n",
       " Text(0.5791245791245792, 0.4722222222222222, 'X[1] <= 31.0\\ngini = 0.095\\nsamples = 25\\nvalue = [38, 2]'),\n",
       " Text(0.5611672278338945, 0.4166666666666667, 'X[2] <= 0.5\\ngini = 0.054\\nsamples = 23\\nvalue = [35, 1]'),\n",
       " Text(0.5521885521885522, 0.3611111111111111, 'X[4] <= 11.0\\ngini = 0.061\\nsamples = 21\\nvalue = [31, 1]'),\n",
       " Text(0.5432098765432098, 0.3055555555555556, 'X[4] <= 5.25\\ngini = 0.153\\nsamples = 7\\nvalue = [11, 1]'),\n",
       " Text(0.5342312008978676, 0.25, 'gini = 0.0\\nsamples = 2\\nvalue = [4, 0]'),\n",
       " Text(0.5521885521885522, 0.25, 'X[1] <= 22.5\\ngini = 0.219\\nsamples = 5\\nvalue = [7, 1]'),\n",
       " Text(0.5432098765432098, 0.19444444444444445, 'X[1] <= 17.5\\ngini = 0.278\\nsamples = 3\\nvalue = [5, 1]'),\n",
       " Text(0.5342312008978676, 0.1388888888888889, 'gini = 0.0\\nsamples = 1\\nvalue = [1, 0]'),\n",
       " Text(0.5521885521885522, 0.1388888888888889, 'gini = 0.32\\nsamples = 2\\nvalue = [4, 1]'),\n",
       " Text(0.5611672278338945, 0.19444444444444445, 'gini = 0.0\\nsamples = 2\\nvalue = [2, 0]'),\n",
       " Text(0.5611672278338945, 0.3055555555555556, 'gini = 0.0\\nsamples = 14\\nvalue = [20, 0]'),\n",
       " Text(0.5701459034792368, 0.3611111111111111, 'gini = 0.0\\nsamples = 2\\nvalue = [4, 0]'),\n",
       " Text(0.5970819304152637, 0.4166666666666667, 'X[4] <= 18.25\\ngini = 0.375\\nsamples = 2\\nvalue = [3, 1]'),\n",
       " Text(0.5881032547699214, 0.3611111111111111, 'gini = 0.0\\nsamples = 1\\nvalue = [3, 0]'),\n",
       " Text(0.6060606060606061, 0.3611111111111111, 'gini = 0.0\\nsamples = 1\\nvalue = [0, 1]'),\n",
       " Text(0.5970819304152637, 0.4722222222222222, 'gini = 0.0\\nsamples = 2\\nvalue = [3, 0]'),\n",
       " Text(0.7000561167227833, 0.5277777777777778, 'X[4] <= 7.196\\ngini = 0.174\\nsamples = 99\\nvalue = [141, 15]'),\n",
       " Text(0.6419753086419753, 0.4722222222222222, 'X[2] <= 0.5\\ngini = 0.426\\nsamples = 9\\nvalue = [9, 4]'),\n",
       " Text(0.632996632996633, 0.4166666666666667, 'X[1] <= 23.0\\ngini = 0.494\\nsamples = 7\\nvalue = [5, 4]'),\n",
       " Text(0.6240179573512907, 0.3611111111111111, 'gini = 0.0\\nsamples = 3\\nvalue = [4, 0]'),\n",
       " Text(0.6419753086419753, 0.3611111111111111, 'X[1] <= 24.5\\ngini = 0.32\\nsamples = 4\\nvalue = [1, 4]'),\n",
       " Text(0.632996632996633, 0.3055555555555556, 'gini = 0.0\\nsamples = 1\\nvalue = [0, 2]'),\n",
       " Text(0.6509539842873177, 0.3055555555555556, 'X[1] <= 26.0\\ngini = 0.444\\nsamples = 3\\nvalue = [1, 2]'),\n",
       " Text(0.6419753086419753, 0.25, 'X[4] <= 3.525\\ngini = 0.5\\nsamples = 2\\nvalue = [1, 1]'),\n",
       " Text(0.632996632996633, 0.19444444444444445, 'gini = 0.0\\nsamples = 1\\nvalue = [0, 1]'),\n",
       " Text(0.6509539842873177, 0.19444444444444445, 'gini = 0.0\\nsamples = 1\\nvalue = [1, 0]'),\n",
       " Text(0.6599326599326599, 0.25, 'gini = 0.0\\nsamples = 1\\nvalue = [0, 1]'),\n",
       " Text(0.6509539842873177, 0.4166666666666667, 'gini = 0.0\\nsamples = 2\\nvalue = [4, 0]'),\n",
       " Text(0.7581369248035915, 0.4722222222222222, 'X[4] <= 7.91\\ngini = 0.142\\nsamples = 90\\nvalue = [132, 11]'),\n",
       " Text(0.6868686868686869, 0.4166666666666667, 'X[1] <= 26.5\\ngini = 0.032\\nsamples = 41\\nvalue = [60, 1]'),\n",
       " Text(0.6778900112233446, 0.3611111111111111, 'gini = 0.0\\nsamples = 22\\nvalue = [32, 0]'),\n",
       " Text(0.6958473625140292, 0.3611111111111111, 'X[1] <= 27.5\\ngini = 0.067\\nsamples = 19\\nvalue = [28, 1]'),\n",
       " Text(0.6868686868686869, 0.3055555555555556, 'X[4] <= 7.846\\ngini = 0.5\\nsamples = 2\\nvalue = [1, 1]'),\n",
       " Text(0.6778900112233446, 0.25, 'gini = 0.0\\nsamples = 1\\nvalue = [0, 1]'),\n",
       " Text(0.6958473625140292, 0.25, 'gini = 0.0\\nsamples = 1\\nvalue = [1, 0]'),\n",
       " Text(0.7048260381593715, 0.3055555555555556, 'gini = 0.0\\nsamples = 17\\nvalue = [27, 0]'),\n",
       " Text(0.8294051627384961, 0.4166666666666667, 'X[2] <= 0.5\\ngini = 0.214\\nsamples = 49\\nvalue = [72, 10]'),\n",
       " Text(0.7833894500561167, 0.3611111111111111, 'X[1] <= 30.75\\ngini = 0.291\\nsamples = 33\\nvalue = [42, 9]'),\n",
       " Text(0.7362514029180696, 0.3055555555555556, 'X[1] <= 19.5\\ngini = 0.24\\nsamples = 29\\nvalue = [37, 6]'),\n",
       " Text(0.7138047138047138, 0.25, 'X[4] <= 8.175\\ngini = 0.444\\nsamples = 4\\nvalue = [4, 2]'),\n",
       " Text(0.7048260381593715, 0.19444444444444445, 'gini = 0.444\\nsamples = 2\\nvalue = [1, 2]'),\n",
       " Text(0.7227833894500562, 0.19444444444444445, 'gini = 0.0\\nsamples = 2\\nvalue = [3, 0]'),\n",
       " Text(0.7586980920314254, 0.25, 'X[4] <= 9.425\\ngini = 0.193\\nsamples = 25\\nvalue = [33, 4]'),\n",
       " Text(0.7407407407407407, 0.19444444444444445, 'X[1] <= 27.85\\ngini = 0.062\\nsamples = 20\\nvalue = [30, 1]'),\n",
       " Text(0.7317620650953984, 0.1388888888888889, 'gini = 0.0\\nsamples = 10\\nvalue = [14, 0]'),\n",
       " Text(0.7497194163860831, 0.1388888888888889, 'X[4] <= 8.081\\ngini = 0.111\\nsamples = 10\\nvalue = [16, 1]'),\n",
       " Text(0.7407407407407407, 0.08333333333333333, 'gini = 0.0\\nsamples = 8\\nvalue = [14, 0]'),\n",
       " Text(0.7586980920314254, 0.08333333333333333, 'X[4] <= 8.388\\ngini = 0.444\\nsamples = 2\\nvalue = [2, 1]'),\n",
       " Text(0.7497194163860831, 0.027777777777777776, 'gini = 0.0\\nsamples = 1\\nvalue = [0, 1]'),\n",
       " Text(0.7676767676767676, 0.027777777777777776, 'gini = 0.0\\nsamples = 1\\nvalue = [2, 0]'),\n",
       " Text(0.77665544332211, 0.19444444444444445, 'X[1] <= 28.75\\ngini = 0.5\\nsamples = 5\\nvalue = [3, 3]'),\n",
       " Text(0.7676767676767676, 0.1388888888888889, 'gini = 0.0\\nsamples = 2\\nvalue = [2, 0]'),\n",
       " Text(0.7856341189674523, 0.1388888888888889, 'X[4] <= 12.0\\ngini = 0.375\\nsamples = 3\\nvalue = [1, 3]'),\n",
       " Text(0.77665544332211, 0.08333333333333333, 'gini = 0.0\\nsamples = 2\\nvalue = [0, 3]'),\n",
       " Text(0.7946127946127947, 0.08333333333333333, 'gini = 0.0\\nsamples = 1\\nvalue = [1, 0]'),\n",
       " Text(0.8305274971941639, 0.3055555555555556, 'X[4] <= 8.206\\ngini = 0.469\\nsamples = 4\\nvalue = [5, 3]'),\n",
       " Text(0.8215488215488216, 0.25, 'X[4] <= 7.988\\ngini = 0.5\\nsamples = 3\\nvalue = [3, 3]'),\n",
       " Text(0.8125701459034792, 0.19444444444444445, 'X[1] <= 31.5\\ngini = 0.375\\nsamples = 2\\nvalue = [3, 1]'),\n",
       " Text(0.8035914702581369, 0.1388888888888889, 'gini = 0.0\\nsamples = 1\\nvalue = [0, 1]'),\n",
       " Text(0.8215488215488216, 0.1388888888888889, 'gini = 0.0\\nsamples = 1\\nvalue = [3, 0]'),\n",
       " Text(0.8305274971941639, 0.19444444444444445, 'gini = 0.0\\nsamples = 1\\nvalue = [0, 2]'),\n",
       " Text(0.8395061728395061, 0.25, 'gini = 0.0\\nsamples = 1\\nvalue = [2, 0]'),\n",
       " Text(0.8754208754208754, 0.3611111111111111, 'X[4] <= 16.0\\ngini = 0.062\\nsamples = 16\\nvalue = [30, 1]'),\n",
       " Text(0.8664421997755332, 0.3055555555555556, 'X[4] <= 15.875\\ngini = 0.245\\nsamples = 5\\nvalue = [6, 1]'),\n",
       " Text(0.8574635241301908, 0.25, 'gini = 0.0\\nsamples = 4\\nvalue = [6, 0]'),\n",
       " Text(0.8754208754208754, 0.25, 'gini = 0.0\\nsamples = 1\\nvalue = [0, 1]'),\n",
       " Text(0.8843995510662177, 0.3055555555555556, 'gini = 0.0\\nsamples = 11\\nvalue = [24, 0]'),\n",
       " Text(0.6620370370370371, 0.5833333333333334, 'gini = 0.0\\nsamples = 15\\nvalue = [24, 0]'),\n",
       " Text(0.7359708193041526, 0.6388888888888888, 'X[2] <= 1.0\\ngini = 0.486\\nsamples = 8\\nvalue = [5, 7]'),\n",
       " Text(0.7269921436588104, 0.5833333333333334, 'X[4] <= 64.998\\ngini = 0.346\\nsamples = 5\\nvalue = [2, 7]'),\n",
       " Text(0.718013468013468, 0.5277777777777778, 'gini = 0.0\\nsamples = 4\\nvalue = [0, 7]'),\n",
       " Text(0.7359708193041526, 0.5277777777777778, 'gini = 0.0\\nsamples = 1\\nvalue = [2, 0]'),\n",
       " Text(0.7449494949494949, 0.5833333333333334, 'gini = 0.0\\nsamples = 3\\nvalue = [3, 0]'),\n",
       " Text(0.9057239057239057, 0.6944444444444444, 'X[2] <= 0.5\\ngini = 0.353\\nsamples = 22\\nvalue = [27, 8]'),\n",
       " Text(0.8742985409652076, 0.6388888888888888, 'X[1] <= 27.85\\ngini = 0.32\\nsamples = 14\\nvalue = [20, 5]'),\n",
       " Text(0.856341189674523, 0.5833333333333334, 'X[1] <= 24.75\\ngini = 0.469\\nsamples = 5\\nvalue = [5, 3]'),\n",
       " Text(0.8473625140291807, 0.5277777777777778, 'X[0] <= 2.5\\ngini = 0.278\\nsamples = 4\\nvalue = [5, 1]'),\n",
       " Text(0.8383838383838383, 0.4722222222222222, 'gini = 0.0\\nsamples = 1\\nvalue = [1, 0]'),\n",
       " Text(0.856341189674523, 0.4722222222222222, 'X[4] <= 7.227\\ngini = 0.32\\nsamples = 3\\nvalue = [4, 1]'),\n",
       " Text(0.8473625140291807, 0.4166666666666667, 'gini = 0.0\\nsamples = 1\\nvalue = [0, 1]'),\n",
       " Text(0.8653198653198653, 0.4166666666666667, 'gini = 0.0\\nsamples = 2\\nvalue = [4, 0]'),\n",
       " Text(0.8653198653198653, 0.5277777777777778, 'gini = 0.0\\nsamples = 1\\nvalue = [0, 2]'),\n",
       " Text(0.8922558922558923, 0.5833333333333334, 'X[1] <= 29.85\\ngini = 0.208\\nsamples = 9\\nvalue = [15, 2]'),\n",
       " Text(0.8832772166105499, 0.5277777777777778, 'X[4] <= 7.227\\ngini = 0.298\\nsamples = 7\\nvalue = [9, 2]'),\n",
       " Text(0.8742985409652076, 0.4722222222222222, 'gini = 0.0\\nsamples = 2\\nvalue = [2, 0]'),\n",
       " Text(0.8922558922558923, 0.4722222222222222, 'X[4] <= 10.844\\ngini = 0.346\\nsamples = 5\\nvalue = [7, 2]'),\n",
       " Text(0.8832772166105499, 0.4166666666666667, 'gini = 0.408\\nsamples = 4\\nvalue = [5, 2]'),\n",
       " Text(0.9012345679012346, 0.4166666666666667, 'gini = 0.0\\nsamples = 1\\nvalue = [2, 0]'),\n",
       " Text(0.9012345679012346, 0.5277777777777778, 'gini = 0.0\\nsamples = 2\\nvalue = [6, 0]'),\n",
       " Text(0.9371492704826038, 0.6388888888888888, 'X[0] <= 2.5\\ngini = 0.42\\nsamples = 8\\nvalue = [7, 3]'),\n",
       " Text(0.9281705948372615, 0.5833333333333334, 'gini = 0.0\\nsamples = 3\\nvalue = [3, 0]'),\n",
       " Text(0.9461279461279462, 0.5833333333333334, 'X[4] <= 15.098\\ngini = 0.49\\nsamples = 5\\nvalue = [4, 3]'),\n",
       " Text(0.9371492704826038, 0.5277777777777778, 'X[4] <= 12.848\\ngini = 0.444\\nsamples = 4\\nvalue = [4, 2]'),\n",
       " Text(0.9281705948372615, 0.4722222222222222, 'X[1] <= 14.5\\ngini = 0.444\\nsamples = 2\\nvalue = [1, 2]'),\n",
       " Text(0.9191919191919192, 0.4166666666666667, 'gini = 0.0\\nsamples = 1\\nvalue = [0, 2]'),\n",
       " Text(0.9371492704826038, 0.4166666666666667, 'gini = 0.0\\nsamples = 1\\nvalue = [1, 0]'),\n",
       " Text(0.9461279461279462, 0.4722222222222222, 'gini = 0.0\\nsamples = 2\\nvalue = [3, 0]'),\n",
       " Text(0.9551066217732884, 0.5277777777777778, 'gini = 0.0\\nsamples = 1\\nvalue = [0, 1]'),\n",
       " Text(0.9730639730639731, 0.75, 'X[4] <= 7.91\\ngini = 0.077\\nsamples = 53\\nvalue = [72, 3]'),\n",
       " Text(0.9640852974186308, 0.6944444444444444, 'gini = 0.0\\nsamples = 16\\nvalue = [22, 0]'),\n",
       " Text(0.9820426487093153, 0.6944444444444444, 'X[2] <= 0.5\\ngini = 0.107\\nsamples = 37\\nvalue = [50, 3]'),\n",
       " Text(0.9730639730639731, 0.6388888888888888, 'X[4] <= 7.988\\ngini = 0.153\\nsamples = 25\\nvalue = [33, 3]'),\n",
       " Text(0.9640852974186308, 0.5833333333333334, 'gini = 0.5\\nsamples = 2\\nvalue = [1, 1]'),\n",
       " Text(0.9820426487093153, 0.5833333333333334, 'X[6] <= 0.5\\ngini = 0.111\\nsamples = 23\\nvalue = [32, 2]'),\n",
       " Text(0.9730639730639731, 0.5277777777777778, 'X[4] <= 12.762\\ngini = 0.117\\nsamples = 22\\nvalue = [30, 2]'),\n",
       " Text(0.9640852974186308, 0.4722222222222222, 'gini = 0.0\\nsamples = 12\\nvalue = [15, 0]'),\n",
       " Text(0.9820426487093153, 0.4722222222222222, 'X[1] <= 44.5\\ngini = 0.208\\nsamples = 10\\nvalue = [15, 2]'),\n",
       " Text(0.9730639730639731, 0.4166666666666667, 'X[1] <= 40.5\\ngini = 0.278\\nsamples = 6\\nvalue = [10, 2]'),\n",
       " Text(0.9640852974186308, 0.3611111111111111, 'X[1] <= 35.0\\ngini = 0.165\\nsamples = 5\\nvalue = [10, 1]'),\n",
       " Text(0.9551066217732884, 0.3055555555555556, 'gini = 0.32\\nsamples = 2\\nvalue = [4, 1]'),\n",
       " Text(0.9730639730639731, 0.3055555555555556, 'gini = 0.0\\nsamples = 3\\nvalue = [6, 0]'),\n",
       " Text(0.9820426487093153, 0.3611111111111111, 'gini = 0.0\\nsamples = 1\\nvalue = [0, 1]'),\n",
       " Text(0.9910213243546577, 0.4166666666666667, 'gini = 0.0\\nsamples = 4\\nvalue = [5, 0]'),\n",
       " Text(0.9910213243546577, 0.5277777777777778, 'gini = 0.0\\nsamples = 1\\nvalue = [2, 0]'),\n",
       " Text(0.9910213243546577, 0.6388888888888888, 'gini = 0.0\\nsamples = 12\\nvalue = [17, 0]')]"
      ]
     },
     "execution_count": 58,
     "metadata": {},
     "output_type": "execute_result"
    },
    {
     "data": {
      "image/png": "[encoded data removed]",
      "text/plain": [
       "<Figure size 2000x1500 with 1 Axes>"
      ]
     },
     "metadata": {},
     "output_type": "display_data"
    }
   ],
   "source": [
    "plt.figure(figsize=(20,15))\n",
    "tree.plot_tree(RFC.estimators_[15],filled=True)"
   ]
  },
  {
   "cell_type": "code",
   "execution_count": 59,
   "id": "75e1e870",
   "metadata": {},
   "outputs": [],
   "source": [
    "param_grid = {'n_estimators': [10,20,30,40,50,60,70,80,90,100]}"
   ]
  },
  {
   "cell_type": "code",
   "execution_count": 60,
   "id": "1cac036a",
   "metadata": {},
   "outputs": [],
   "source": [
    "from sklearn.model_selection import GridSearchCV\n",
    "grid_search=GridSearchCV(estimator=RFC,param_grid=param_grid,cv=5,verbose=True)"
   ]
  },
  {
   "cell_type": "code",
   "execution_count": 61,
   "id": "289c1d08",
   "metadata": {},
   "outputs": [
    {
     "name": "stdout",
     "output_type": "stream",
     "text": [
      "Fitting 5 folds for each of 10 candidates, totalling 50 fits\n"
     ]
    },
    {
     "data": {
      "text/plain": [
       "GridSearchCV(cv=5,\n",
       "             estimator=RandomForestClassifier(n_estimators=20, random_state=0),\n",
       "             param_grid={'n_estimators': [10, 20, 30, 40, 50, 60, 70, 80, 90,\n",
       "                                          100]},\n",
       "             verbose=True)"
      ]
     },
     "execution_count": 61,
     "metadata": {},
     "output_type": "execute_result"
    }
   ],
   "source": [
    "grid_search.fit(x_train,y_train)"
   ]
  },
  {
   "cell_type": "code",
   "execution_count": 62,
   "id": "3e931cd9",
   "metadata": {},
   "outputs": [],
   "source": [
    "final_model_RF=grid_search.best_estimator_"
   ]
  },
  {
   "cell_type": "code",
   "execution_count": 63,
   "id": "cb24170b",
   "metadata": {},
   "outputs": [
    {
     "data": {
      "text/plain": [
       "RandomForestClassifier(n_estimators=40, random_state=0)"
      ]
     },
     "execution_count": 63,
     "metadata": {},
     "output_type": "execute_result"
    }
   ],
   "source": [
    "final_model_RF"
   ]
  },
  {
   "cell_type": "code",
   "execution_count": 64,
   "id": "073168c9",
   "metadata": {},
   "outputs": [],
   "source": [
    "RFC1=RandomForestClassifier(random_state=0,n_estimators=80)"
   ]
  },
  {
   "cell_type": "code",
   "execution_count": 65,
   "id": "6a36ae22",
   "metadata": {},
   "outputs": [
    {
     "data": {
      "text/plain": [
       "RandomForestClassifier(n_estimators=80, random_state=0)"
      ]
     },
     "execution_count": 65,
     "metadata": {},
     "output_type": "execute_result"
    }
   ],
   "source": [
    "RFC1.fit(x_train,y_train)"
   ]
  },
  {
   "cell_type": "code",
   "execution_count": 66,
   "id": "59492c63",
   "metadata": {},
   "outputs": [],
   "source": [
    "pred1=RFC1.predict(x_test)"
   ]
  },
  {
   "cell_type": "code",
   "execution_count": 67,
   "id": "81da1af5",
   "metadata": {},
   "outputs": [
    {
     "data": {
      "text/plain": [
       "array([1, 1, 1, 0, 0, 0, 1, 0, 0, 0, 0, 1, 0, 0, 0, 0, 1, 1, 1, 0, 0, 0,\n",
       "       1, 0, 0, 0, 0, 0, 1, 0, 1, 0, 1, 0, 1, 0, 1, 1, 0, 1, 0, 0, 1, 0,\n",
       "       1, 1, 0, 1, 0, 1, 0, 0, 0, 1, 1, 0, 1, 0, 0, 1, 0, 0, 1, 0, 0, 0,\n",
       "       0, 0, 0, 0, 0, 1, 0, 1, 0, 1, 1, 0, 0, 0, 0, 1, 0, 0, 0, 0, 0, 0,\n",
       "       1, 0, 0, 0, 0, 1, 1, 1, 0, 0, 1, 1, 0, 0, 1, 1, 0, 1, 0, 0, 0, 1,\n",
       "       0, 1, 0, 1, 1, 1, 0, 0, 1, 1, 0, 1, 0, 0, 0, 0, 0, 0, 0, 1, 0, 0,\n",
       "       0, 0, 0, 0, 0, 1, 0, 0, 1, 0, 1, 1, 0, 0, 0, 0, 0, 1, 1, 0, 1, 0,\n",
       "       1, 0, 0, 1, 0, 0, 0, 1, 1, 1, 0, 0, 0, 0, 0, 1, 0, 0, 1, 0, 0, 0,\n",
       "       0, 0, 0], dtype=int64)"
      ]
     },
     "execution_count": 67,
     "metadata": {},
     "output_type": "execute_result"
    }
   ],
   "source": [
    "pred1"
   ]
  },
  {
   "cell_type": "code",
   "execution_count": 68,
   "id": "67d943de",
   "metadata": {},
   "outputs": [],
   "source": [
    "acc1=accuracy_score(pred1,y_test)"
   ]
  },
  {
   "cell_type": "code",
   "execution_count": 69,
   "id": "348c10aa",
   "metadata": {},
   "outputs": [
    {
     "data": {
      "text/plain": [
       "0.7541899441340782"
      ]
     },
     "execution_count": 69,
     "metadata": {},
     "output_type": "execute_result"
    }
   ],
   "source": [
    "acc1"
   ]
  },
  {
   "cell_type": "code",
   "execution_count": 70,
   "id": "e026a678",
   "metadata": {},
   "outputs": [],
   "source": [
    "RFC2 = RandomForestClassifier(random_state=0, n_estimators = 60)"
   ]
  },
  {
   "cell_type": "code",
   "execution_count": 71,
   "id": "22e8cef2",
   "metadata": {},
   "outputs": [
    {
     "data": {
      "text/plain": [
       "RandomForestClassifier(n_estimators=60, random_state=0)"
      ]
     },
     "execution_count": 71,
     "metadata": {},
     "output_type": "execute_result"
    }
   ],
   "source": [
    "RFC2.fit(x_train,y_train)"
   ]
  },
  {
   "cell_type": "code",
   "execution_count": 72,
   "id": "f1ecb04e",
   "metadata": {},
   "outputs": [],
   "source": [
    "from sklearn.metrics import accuracy_score"
   ]
  },
  {
   "cell_type": "code",
   "execution_count": 73,
   "id": "4c486c9a",
   "metadata": {},
   "outputs": [],
   "source": [
    "pred2=RFC2.predict(x_test)"
   ]
  },
  {
   "cell_type": "code",
   "execution_count": 74,
   "id": "dc2a20e8",
   "metadata": {},
   "outputs": [
    {
     "data": {
      "text/plain": [
       "array([1, 1, 1, 0, 0, 0, 1, 0, 0, 0, 0, 1, 0, 0, 0, 0, 1, 1, 1, 0, 0, 0,\n",
       "       1, 0, 0, 0, 0, 0, 1, 0, 1, 0, 1, 0, 1, 0, 1, 1, 0, 1, 0, 0, 1, 0,\n",
       "       1, 1, 0, 1, 0, 1, 0, 0, 0, 1, 1, 0, 1, 0, 0, 1, 0, 0, 1, 0, 0, 0,\n",
       "       0, 0, 0, 0, 0, 1, 0, 1, 0, 1, 1, 0, 0, 0, 0, 1, 0, 0, 0, 0, 0, 0,\n",
       "       1, 0, 0, 0, 0, 0, 1, 1, 0, 0, 1, 1, 0, 0, 1, 1, 0, 0, 0, 0, 0, 1,\n",
       "       0, 1, 0, 1, 1, 1, 0, 0, 1, 1, 0, 1, 0, 0, 0, 0, 0, 0, 0, 1, 0, 0,\n",
       "       0, 0, 0, 0, 0, 1, 0, 0, 1, 0, 1, 1, 0, 0, 0, 0, 0, 1, 1, 0, 1, 0,\n",
       "       1, 0, 0, 1, 0, 0, 0, 1, 1, 1, 0, 0, 0, 0, 0, 1, 0, 0, 1, 0, 0, 0,\n",
       "       0, 0, 0], dtype=int64)"
      ]
     },
     "execution_count": 74,
     "metadata": {},
     "output_type": "execute_result"
    }
   ],
   "source": [
    "pred2\n"
   ]
  },
  {
   "cell_type": "code",
   "execution_count": 75,
   "id": "28a5230c",
   "metadata": {},
   "outputs": [],
   "source": [
    "acc2=accuracy_score(pred2,y_test)"
   ]
  },
  {
   "cell_type": "code",
   "execution_count": 76,
   "id": "e4ec6236",
   "metadata": {},
   "outputs": [
    {
     "data": {
      "text/plain": [
       "0.7430167597765364"
      ]
     },
     "execution_count": 76,
     "metadata": {},
     "output_type": "execute_result"
    }
   ],
   "source": [
    "acc2"
   ]
  },
  {
   "cell_type": "code",
   "execution_count": null,
   "id": "c11cafd4",
   "metadata": {},
   "outputs": [],
   "source": []
  }
 ],
 "metadata": {
  "kernelspec": {
   "display_name": "Python 3 (ipykernel)",
   "language": "python",
   "name": "python3"
  },
  "language_info": {
   "codemirror_mode": {
    "name": "ipython",
    "version": 3
   },
   "file_extension": ".py",
   "mimetype": "text/x-python",
   "name": "python",
   "nbconvert_exporter": "python",
   "pygments_lexer": "ipython3",
   "version": "3.9.13"
  }
 },
 "nbformat": 4,
 "nbformat_minor": 5
}
